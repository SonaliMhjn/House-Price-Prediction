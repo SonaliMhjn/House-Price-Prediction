{
 "cells": [
  {
   "cell_type": "markdown",
   "id": "9b820412-da21-4031-ab49-d2ede6262114",
   "metadata": {},
   "source": [
    "Importing Neccessary libraries"
   ]
  },
  {
   "cell_type": "code",
   "execution_count": 1,
   "id": "b998aa40-7d58-4b34-a9b3-6b21573240fc",
   "metadata": {},
   "outputs": [],
   "source": [
    "import numpy as np\n",
    "import pandas as pd\n",
    "from matplotlib import pyplot as plt\n",
    "from sklearn import linear_model\n",
    "import matplotlib\n",
    "from sklearn import metrics\n",
    "import warnings\n"
   ]
  },
  {
   "cell_type": "markdown",
   "id": "137666a6-1222-43d3-9116-f91bbeb1e7e1",
   "metadata": {},
   "source": [
    "Loading Dataset"
   ]
  },
  {
   "cell_type": "code",
   "execution_count": 2,
   "id": "91d5e3c0-b4ae-4185-9577-b4a2cc26d6ed",
   "metadata": {},
   "outputs": [
    {
     "data": {
      "text/html": [
       "<div>\n",
       "<style scoped>\n",
       "    .dataframe tbody tr th:only-of-type {\n",
       "        vertical-align: middle;\n",
       "    }\n",
       "\n",
       "    .dataframe tbody tr th {\n",
       "        vertical-align: top;\n",
       "    }\n",
       "\n",
       "    .dataframe thead th {\n",
       "        text-align: right;\n",
       "    }\n",
       "</style>\n",
       "<table border=\"1\" class=\"dataframe\">\n",
       "  <thead>\n",
       "    <tr style=\"text-align: right;\">\n",
       "      <th></th>\n",
       "      <th>Type</th>\n",
       "      <th>BHK</th>\n",
       "      <th>Bathroom</th>\n",
       "      <th>Furnishing</th>\n",
       "      <th>Locality</th>\n",
       "      <th>Parking</th>\n",
       "      <th>Status</th>\n",
       "      <th>Transaction</th>\n",
       "      <th>Total_sqft</th>\n",
       "      <th>Price (in Lakhs)</th>\n",
       "    </tr>\n",
       "  </thead>\n",
       "  <tbody>\n",
       "    <tr>\n",
       "      <th>0</th>\n",
       "      <td>Builder_Floor</td>\n",
       "      <td>3</td>\n",
       "      <td>2.0</td>\n",
       "      <td>Semi-Furnished</td>\n",
       "      <td>Rohini Sector 25</td>\n",
       "      <td>1.0</td>\n",
       "      <td>Ready_to_move</td>\n",
       "      <td>New_Property</td>\n",
       "      <td>6500.0</td>\n",
       "      <td>65.00\\n%%</td>\n",
       "    </tr>\n",
       "    <tr>\n",
       "      <th>1</th>\n",
       "      <td>Apartment</td>\n",
       "      <td>2</td>\n",
       "      <td>2.0</td>\n",
       "      <td>Semi-Furnished</td>\n",
       "      <td>J R Designers Floors, Rohini Sector 24</td>\n",
       "      <td>1.0</td>\n",
       "      <td>Ready_to_move</td>\n",
       "      <td>New_Property</td>\n",
       "      <td>6667.0</td>\n",
       "      <td>50.00\\n%%</td>\n",
       "    </tr>\n",
       "    <tr>\n",
       "      <th>2</th>\n",
       "      <td>Apartment</td>\n",
       "      <td>2</td>\n",
       "      <td>2.0</td>\n",
       "      <td>Furnished</td>\n",
       "      <td>Citizen Apartment, Rohini Sector 13</td>\n",
       "      <td>1.0</td>\n",
       "      <td>Ready_to_move</td>\n",
       "      <td>Resale</td>\n",
       "      <td>6667.0</td>\n",
       "      <td>155.00\\n%%</td>\n",
       "    </tr>\n",
       "    <tr>\n",
       "      <th>3</th>\n",
       "      <td>Builder_Floor</td>\n",
       "      <td>2</td>\n",
       "      <td>2.0</td>\n",
       "      <td>Semi-Furnished</td>\n",
       "      <td>Rohini Sector 24</td>\n",
       "      <td>1.0</td>\n",
       "      <td>Ready_to_move</td>\n",
       "      <td>Resale</td>\n",
       "      <td>6667.0</td>\n",
       "      <td>42.00\\n%%</td>\n",
       "    </tr>\n",
       "    <tr>\n",
       "      <th>4</th>\n",
       "      <td>Builder_Floor</td>\n",
       "      <td>2</td>\n",
       "      <td>2.0</td>\n",
       "      <td>Semi-Furnished</td>\n",
       "      <td>Rohini Sector 24</td>\n",
       "      <td>1.0</td>\n",
       "      <td>Ready_to_move</td>\n",
       "      <td>New_Property</td>\n",
       "      <td>6667.0</td>\n",
       "      <td>62.00\\n%%</td>\n",
       "    </tr>\n",
       "  </tbody>\n",
       "</table>\n",
       "</div>"
      ],
      "text/plain": [
       "            Type  BHK  Bathroom      Furnishing  \\\n",
       "0  Builder_Floor    3       2.0  Semi-Furnished   \n",
       "1      Apartment    2       2.0  Semi-Furnished   \n",
       "2      Apartment    2       2.0       Furnished   \n",
       "3  Builder_Floor    2       2.0  Semi-Furnished   \n",
       "4  Builder_Floor    2       2.0  Semi-Furnished   \n",
       "\n",
       "                                 Locality  Parking         Status  \\\n",
       "0                        Rohini Sector 25      1.0  Ready_to_move   \n",
       "1  J R Designers Floors, Rohini Sector 24      1.0  Ready_to_move   \n",
       "2     Citizen Apartment, Rohini Sector 13      1.0  Ready_to_move   \n",
       "3                        Rohini Sector 24      1.0  Ready_to_move   \n",
       "4                       Rohini Sector 24       1.0  Ready_to_move   \n",
       "\n",
       "    Transaction  Total_sqft Price (in Lakhs)  \n",
       "0  New_Property      6500.0        65.00\\n%%  \n",
       "1  New_Property      6667.0        50.00\\n%%  \n",
       "2        Resale      6667.0       155.00\\n%%  \n",
       "3        Resale      6667.0        42.00\\n%%  \n",
       "4  New_Property      6667.0        62.00\\n%%  "
      ]
     },
     "execution_count": 2,
     "metadata": {},
     "output_type": "execute_result"
    }
   ],
   "source": [
    "df = pd.read_csv(\"C:/Users/Sonali/Desktop/Delhi House Prices.csv\")\n",
    "df.head()"
   ]
  },
  {
   "cell_type": "code",
   "execution_count": 3,
   "id": "84dc5fd0-a20f-4dfd-ac10-b05a2c7aa531",
   "metadata": {},
   "outputs": [
    {
     "data": {
      "text/plain": [
       "(1259, 10)"
      ]
     },
     "execution_count": 3,
     "metadata": {},
     "output_type": "execute_result"
    }
   ],
   "source": [
    "df.shape"
   ]
  },
  {
   "cell_type": "markdown",
   "id": "897145c5-9133-4dd8-8771-214b3c6f55ab",
   "metadata": {},
   "source": [
    "Data Preprocessing \n"
   ]
  },
  {
   "cell_type": "markdown",
   "id": "c3b4f754-2d8e-49ba-b719-bf5f9565e5b6",
   "metadata": {},
   "source": [
    "~ Data Cleaning"
   ]
  },
  {
   "cell_type": "code",
   "execution_count": 4,
   "id": "79688f2d-8393-48f4-b08b-e0d3b44cd6e2",
   "metadata": {},
   "outputs": [
    {
     "data": {
      "text/html": [
       "<div>\n",
       "<style scoped>\n",
       "    .dataframe tbody tr th:only-of-type {\n",
       "        vertical-align: middle;\n",
       "    }\n",
       "\n",
       "    .dataframe tbody tr th {\n",
       "        vertical-align: top;\n",
       "    }\n",
       "\n",
       "    .dataframe thead th {\n",
       "        text-align: right;\n",
       "    }\n",
       "</style>\n",
       "<table border=\"1\" class=\"dataframe\">\n",
       "  <thead>\n",
       "    <tr style=\"text-align: right;\">\n",
       "      <th></th>\n",
       "      <th>Type</th>\n",
       "      <th>BHK</th>\n",
       "      <th>Bathroom</th>\n",
       "      <th>Furnishing</th>\n",
       "      <th>Locality</th>\n",
       "      <th>Parking</th>\n",
       "      <th>Status</th>\n",
       "      <th>Transaction</th>\n",
       "      <th>Total_sqft</th>\n",
       "      <th>Price (in Lakhs)</th>\n",
       "    </tr>\n",
       "  </thead>\n",
       "  <tbody>\n",
       "    <tr>\n",
       "      <th>0</th>\n",
       "      <td>Builder_Floor</td>\n",
       "      <td>3</td>\n",
       "      <td>2.0</td>\n",
       "      <td>Semi-Furnished</td>\n",
       "      <td>Rohini Sector 25</td>\n",
       "      <td>1.0</td>\n",
       "      <td>Ready_to_move</td>\n",
       "      <td>New_Property</td>\n",
       "      <td>6500.0</td>\n",
       "      <td>65.00</td>\n",
       "    </tr>\n",
       "    <tr>\n",
       "      <th>1</th>\n",
       "      <td>Apartment</td>\n",
       "      <td>2</td>\n",
       "      <td>2.0</td>\n",
       "      <td>Semi-Furnished</td>\n",
       "      <td>J R Designers Floors, Rohini Sector 24</td>\n",
       "      <td>1.0</td>\n",
       "      <td>Ready_to_move</td>\n",
       "      <td>New_Property</td>\n",
       "      <td>6667.0</td>\n",
       "      <td>50.00</td>\n",
       "    </tr>\n",
       "    <tr>\n",
       "      <th>2</th>\n",
       "      <td>Apartment</td>\n",
       "      <td>2</td>\n",
       "      <td>2.0</td>\n",
       "      <td>Furnished</td>\n",
       "      <td>Citizen Apartment, Rohini Sector 13</td>\n",
       "      <td>1.0</td>\n",
       "      <td>Ready_to_move</td>\n",
       "      <td>Resale</td>\n",
       "      <td>6667.0</td>\n",
       "      <td>155.00</td>\n",
       "    </tr>\n",
       "    <tr>\n",
       "      <th>3</th>\n",
       "      <td>Builder_Floor</td>\n",
       "      <td>2</td>\n",
       "      <td>2.0</td>\n",
       "      <td>Semi-Furnished</td>\n",
       "      <td>Rohini Sector 24</td>\n",
       "      <td>1.0</td>\n",
       "      <td>Ready_to_move</td>\n",
       "      <td>Resale</td>\n",
       "      <td>6667.0</td>\n",
       "      <td>42.00</td>\n",
       "    </tr>\n",
       "    <tr>\n",
       "      <th>4</th>\n",
       "      <td>Builder_Floor</td>\n",
       "      <td>2</td>\n",
       "      <td>2.0</td>\n",
       "      <td>Semi-Furnished</td>\n",
       "      <td>Rohini Sector 24</td>\n",
       "      <td>1.0</td>\n",
       "      <td>Ready_to_move</td>\n",
       "      <td>New_Property</td>\n",
       "      <td>6667.0</td>\n",
       "      <td>62.00</td>\n",
       "    </tr>\n",
       "  </tbody>\n",
       "</table>\n",
       "</div>"
      ],
      "text/plain": [
       "            Type  BHK  Bathroom      Furnishing  \\\n",
       "0  Builder_Floor    3       2.0  Semi-Furnished   \n",
       "1      Apartment    2       2.0  Semi-Furnished   \n",
       "2      Apartment    2       2.0       Furnished   \n",
       "3  Builder_Floor    2       2.0  Semi-Furnished   \n",
       "4  Builder_Floor    2       2.0  Semi-Furnished   \n",
       "\n",
       "                                 Locality  Parking         Status  \\\n",
       "0                        Rohini Sector 25      1.0  Ready_to_move   \n",
       "1  J R Designers Floors, Rohini Sector 24      1.0  Ready_to_move   \n",
       "2     Citizen Apartment, Rohini Sector 13      1.0  Ready_to_move   \n",
       "3                        Rohini Sector 24      1.0  Ready_to_move   \n",
       "4                       Rohini Sector 24       1.0  Ready_to_move   \n",
       "\n",
       "    Transaction  Total_sqft Price (in Lakhs)  \n",
       "0  New_Property      6500.0            65.00  \n",
       "1  New_Property      6667.0            50.00  \n",
       "2        Resale      6667.0           155.00  \n",
       "3        Resale      6667.0            42.00  \n",
       "4  New_Property      6667.0            62.00  "
      ]
     },
     "execution_count": 4,
     "metadata": {},
     "output_type": "execute_result"
    }
   ],
   "source": [
    "df['Price (in Lakhs)'] = df['Price (in Lakhs)'].str[:-3]\n",
    "df.head()"
   ]
  },
  {
   "cell_type": "code",
   "execution_count": 5,
   "id": "6c70f6bb-597c-4eae-95af-a17b60bd6ef8",
   "metadata": {},
   "outputs": [
    {
     "data": {
      "text/html": [
       "<div>\n",
       "<style scoped>\n",
       "    .dataframe tbody tr th:only-of-type {\n",
       "        vertical-align: middle;\n",
       "    }\n",
       "\n",
       "    .dataframe tbody tr th {\n",
       "        vertical-align: top;\n",
       "    }\n",
       "\n",
       "    .dataframe thead th {\n",
       "        text-align: right;\n",
       "    }\n",
       "</style>\n",
       "<table border=\"1\" class=\"dataframe\">\n",
       "  <thead>\n",
       "    <tr style=\"text-align: right;\">\n",
       "      <th></th>\n",
       "      <th>BHK</th>\n",
       "      <th>Bathroom</th>\n",
       "      <th>Furnishing</th>\n",
       "      <th>Locality</th>\n",
       "      <th>Total_sqft</th>\n",
       "      <th>Price (in Lakhs)</th>\n",
       "    </tr>\n",
       "  </thead>\n",
       "  <tbody>\n",
       "    <tr>\n",
       "      <th>0</th>\n",
       "      <td>3</td>\n",
       "      <td>2.0</td>\n",
       "      <td>Semi-Furnished</td>\n",
       "      <td>Rohini Sector 25</td>\n",
       "      <td>6500.0</td>\n",
       "      <td>65.00</td>\n",
       "    </tr>\n",
       "    <tr>\n",
       "      <th>1</th>\n",
       "      <td>2</td>\n",
       "      <td>2.0</td>\n",
       "      <td>Semi-Furnished</td>\n",
       "      <td>J R Designers Floors, Rohini Sector 24</td>\n",
       "      <td>6667.0</td>\n",
       "      <td>50.00</td>\n",
       "    </tr>\n",
       "    <tr>\n",
       "      <th>2</th>\n",
       "      <td>2</td>\n",
       "      <td>2.0</td>\n",
       "      <td>Furnished</td>\n",
       "      <td>Citizen Apartment, Rohini Sector 13</td>\n",
       "      <td>6667.0</td>\n",
       "      <td>155.00</td>\n",
       "    </tr>\n",
       "    <tr>\n",
       "      <th>3</th>\n",
       "      <td>2</td>\n",
       "      <td>2.0</td>\n",
       "      <td>Semi-Furnished</td>\n",
       "      <td>Rohini Sector 24</td>\n",
       "      <td>6667.0</td>\n",
       "      <td>42.00</td>\n",
       "    </tr>\n",
       "    <tr>\n",
       "      <th>4</th>\n",
       "      <td>2</td>\n",
       "      <td>2.0</td>\n",
       "      <td>Semi-Furnished</td>\n",
       "      <td>Rohini Sector 24</td>\n",
       "      <td>6667.0</td>\n",
       "      <td>62.00</td>\n",
       "    </tr>\n",
       "  </tbody>\n",
       "</table>\n",
       "</div>"
      ],
      "text/plain": [
       "   BHK  Bathroom      Furnishing                                Locality  \\\n",
       "0    3       2.0  Semi-Furnished                        Rohini Sector 25   \n",
       "1    2       2.0  Semi-Furnished  J R Designers Floors, Rohini Sector 24   \n",
       "2    2       2.0       Furnished     Citizen Apartment, Rohini Sector 13   \n",
       "3    2       2.0  Semi-Furnished                        Rohini Sector 24   \n",
       "4    2       2.0  Semi-Furnished                       Rohini Sector 24    \n",
       "\n",
       "   Total_sqft Price (in Lakhs)  \n",
       "0      6500.0            65.00  \n",
       "1      6667.0            50.00  \n",
       "2      6667.0           155.00  \n",
       "3      6667.0            42.00  \n",
       "4      6667.0            62.00  "
      ]
     },
     "execution_count": 5,
     "metadata": {},
     "output_type": "execute_result"
    }
   ],
   "source": [
    "df1=df.drop(['Transaction','Type','Parking','Status'],axis='columns')\n",
    "df1.head()"
   ]
  },
  {
   "cell_type": "markdown",
   "id": "c1f6afc5-e38e-4a4e-a34d-53ceb90fac25",
   "metadata": {},
   "source": [
    "Checking for null values in each column"
   ]
  },
  {
   "cell_type": "code",
   "execution_count": 6,
   "id": "9464b912-2a04-4108-9d21-3720a759dd63",
   "metadata": {},
   "outputs": [
    {
     "data": {
      "text/plain": [
       "BHK                   0\n",
       "Bathroom              2\n",
       "Furnishing            5\n",
       "Locality              0\n",
       "Total_sqft          240\n",
       "Price (in Lakhs)      0\n",
       "dtype: int64"
      ]
     },
     "execution_count": 6,
     "metadata": {},
     "output_type": "execute_result"
    }
   ],
   "source": [
    "df1.isnull().sum()"
   ]
  },
  {
   "cell_type": "markdown",
   "id": "8867b73b-db5d-4ac2-9c2c-49fcf87a5777",
   "metadata": {},
   "source": [
    "Handling Missing values"
   ]
  },
  {
   "cell_type": "code",
   "execution_count": 7,
   "id": "9be56832-95a8-4ab1-9410-6323c8634fb3",
   "metadata": {},
   "outputs": [
    {
     "data": {
      "text/html": [
       "<div>\n",
       "<style scoped>\n",
       "    .dataframe tbody tr th:only-of-type {\n",
       "        vertical-align: middle;\n",
       "    }\n",
       "\n",
       "    .dataframe tbody tr th {\n",
       "        vertical-align: top;\n",
       "    }\n",
       "\n",
       "    .dataframe thead th {\n",
       "        text-align: right;\n",
       "    }\n",
       "</style>\n",
       "<table border=\"1\" class=\"dataframe\">\n",
       "  <thead>\n",
       "    <tr style=\"text-align: right;\">\n",
       "      <th></th>\n",
       "      <th>BHK</th>\n",
       "      <th>Bathroom</th>\n",
       "      <th>Furnishing</th>\n",
       "      <th>Locality</th>\n",
       "      <th>Total_sqft</th>\n",
       "      <th>Price (in Lakhs)</th>\n",
       "    </tr>\n",
       "  </thead>\n",
       "  <tbody>\n",
       "    <tr>\n",
       "      <th>0</th>\n",
       "      <td>3</td>\n",
       "      <td>2.0</td>\n",
       "      <td>Semi-Furnished</td>\n",
       "      <td>Rohini Sector 25</td>\n",
       "      <td>6500.0</td>\n",
       "      <td>65.00</td>\n",
       "    </tr>\n",
       "    <tr>\n",
       "      <th>1</th>\n",
       "      <td>2</td>\n",
       "      <td>2.0</td>\n",
       "      <td>Semi-Furnished</td>\n",
       "      <td>J R Designers Floors, Rohini Sector 24</td>\n",
       "      <td>6667.0</td>\n",
       "      <td>50.00</td>\n",
       "    </tr>\n",
       "    <tr>\n",
       "      <th>2</th>\n",
       "      <td>2</td>\n",
       "      <td>2.0</td>\n",
       "      <td>Furnished</td>\n",
       "      <td>Citizen Apartment, Rohini Sector 13</td>\n",
       "      <td>6667.0</td>\n",
       "      <td>155.00</td>\n",
       "    </tr>\n",
       "    <tr>\n",
       "      <th>3</th>\n",
       "      <td>2</td>\n",
       "      <td>2.0</td>\n",
       "      <td>Semi-Furnished</td>\n",
       "      <td>Rohini Sector 24</td>\n",
       "      <td>6667.0</td>\n",
       "      <td>42.00</td>\n",
       "    </tr>\n",
       "    <tr>\n",
       "      <th>4</th>\n",
       "      <td>2</td>\n",
       "      <td>2.0</td>\n",
       "      <td>Semi-Furnished</td>\n",
       "      <td>Rohini Sector 24</td>\n",
       "      <td>6667.0</td>\n",
       "      <td>62.00</td>\n",
       "    </tr>\n",
       "  </tbody>\n",
       "</table>\n",
       "</div>"
      ],
      "text/plain": [
       "   BHK  Bathroom      Furnishing                                Locality  \\\n",
       "0    3       2.0  Semi-Furnished                        Rohini Sector 25   \n",
       "1    2       2.0  Semi-Furnished  J R Designers Floors, Rohini Sector 24   \n",
       "2    2       2.0       Furnished     Citizen Apartment, Rohini Sector 13   \n",
       "3    2       2.0  Semi-Furnished                        Rohini Sector 24   \n",
       "4    2       2.0  Semi-Furnished                       Rohini Sector 24    \n",
       "\n",
       "   Total_sqft Price (in Lakhs)  \n",
       "0      6500.0            65.00  \n",
       "1      6667.0            50.00  \n",
       "2      6667.0           155.00  \n",
       "3      6667.0            42.00  \n",
       "4      6667.0            62.00  "
      ]
     },
     "execution_count": 7,
     "metadata": {},
     "output_type": "execute_result"
    }
   ],
   "source": [
    "#Filling NaN values of column 'Bathroom' with its median\n",
    "df1.fillna(df1['Bathroom'].median(),inplace=True)\n",
    "df1.head()"
   ]
  },
  {
   "cell_type": "code",
   "execution_count": 8,
   "id": "885339bc-b298-400a-bd0b-03e235b67a4d",
   "metadata": {},
   "outputs": [
    {
     "name": "stdout",
     "output_type": "stream",
     "text": [
      "['Semi-Furnished' 'Furnished' 'Unfurnished' 2.0]\n"
     ]
    },
    {
     "data": {
      "text/html": [
       "<div>\n",
       "<style scoped>\n",
       "    .dataframe tbody tr th:only-of-type {\n",
       "        vertical-align: middle;\n",
       "    }\n",
       "\n",
       "    .dataframe tbody tr th {\n",
       "        vertical-align: top;\n",
       "    }\n",
       "\n",
       "    .dataframe thead th {\n",
       "        text-align: right;\n",
       "    }\n",
       "</style>\n",
       "<table border=\"1\" class=\"dataframe\">\n",
       "  <thead>\n",
       "    <tr style=\"text-align: right;\">\n",
       "      <th></th>\n",
       "      <th>BHK</th>\n",
       "      <th>Bathroom</th>\n",
       "      <th>Furnishing</th>\n",
       "      <th>Locality</th>\n",
       "      <th>Total_sqft</th>\n",
       "      <th>Price (in Lakhs)</th>\n",
       "    </tr>\n",
       "  </thead>\n",
       "  <tbody>\n",
       "    <tr>\n",
       "      <th>0</th>\n",
       "      <td>3</td>\n",
       "      <td>2.0</td>\n",
       "      <td>Semi-Furnished</td>\n",
       "      <td>Rohini Sector 25</td>\n",
       "      <td>6500.0</td>\n",
       "      <td>65.00</td>\n",
       "    </tr>\n",
       "    <tr>\n",
       "      <th>1</th>\n",
       "      <td>2</td>\n",
       "      <td>2.0</td>\n",
       "      <td>Semi-Furnished</td>\n",
       "      <td>J R Designers Floors, Rohini Sector 24</td>\n",
       "      <td>6667.0</td>\n",
       "      <td>50.00</td>\n",
       "    </tr>\n",
       "    <tr>\n",
       "      <th>2</th>\n",
       "      <td>2</td>\n",
       "      <td>2.0</td>\n",
       "      <td>Furnished</td>\n",
       "      <td>Citizen Apartment, Rohini Sector 13</td>\n",
       "      <td>6667.0</td>\n",
       "      <td>155.00</td>\n",
       "    </tr>\n",
       "    <tr>\n",
       "      <th>3</th>\n",
       "      <td>2</td>\n",
       "      <td>2.0</td>\n",
       "      <td>Semi-Furnished</td>\n",
       "      <td>Rohini Sector 24</td>\n",
       "      <td>6667.0</td>\n",
       "      <td>42.00</td>\n",
       "    </tr>\n",
       "    <tr>\n",
       "      <th>4</th>\n",
       "      <td>2</td>\n",
       "      <td>2.0</td>\n",
       "      <td>Semi-Furnished</td>\n",
       "      <td>Rohini Sector 24</td>\n",
       "      <td>6667.0</td>\n",
       "      <td>62.00</td>\n",
       "    </tr>\n",
       "  </tbody>\n",
       "</table>\n",
       "</div>"
      ],
      "text/plain": [
       "   BHK  Bathroom      Furnishing                                Locality  \\\n",
       "0    3       2.0  Semi-Furnished                        Rohini Sector 25   \n",
       "1    2       2.0  Semi-Furnished  J R Designers Floors, Rohini Sector 24   \n",
       "2    2       2.0       Furnished     Citizen Apartment, Rohini Sector 13   \n",
       "3    2       2.0  Semi-Furnished                        Rohini Sector 24   \n",
       "4    2       2.0  Semi-Furnished                       Rohini Sector 24    \n",
       "\n",
       "   Total_sqft Price (in Lakhs)  \n",
       "0      6500.0            65.00  \n",
       "1      6667.0            50.00  \n",
       "2      6667.0           155.00  \n",
       "3      6667.0            42.00  \n",
       "4      6667.0            62.00  "
      ]
     },
     "execution_count": 8,
     "metadata": {},
     "output_type": "execute_result"
    }
   ],
   "source": [
    "#Filling NaN values of column 'Furnishing' with its mode\n",
    "print(df1.Furnishing.unique())\n",
    "df1.fillna(df1['Furnishing'].mode(),inplace=True)\n",
    "df1.head()\n"
   ]
  },
  {
   "cell_type": "code",
   "execution_count": 9,
   "id": "15cc249e-c351-45c2-bd1c-fced65f2bf13",
   "metadata": {},
   "outputs": [
    {
     "data": {
      "text/html": [
       "<div>\n",
       "<style scoped>\n",
       "    .dataframe tbody tr th:only-of-type {\n",
       "        vertical-align: middle;\n",
       "    }\n",
       "\n",
       "    .dataframe tbody tr th {\n",
       "        vertical-align: top;\n",
       "    }\n",
       "\n",
       "    .dataframe thead th {\n",
       "        text-align: right;\n",
       "    }\n",
       "</style>\n",
       "<table border=\"1\" class=\"dataframe\">\n",
       "  <thead>\n",
       "    <tr style=\"text-align: right;\">\n",
       "      <th></th>\n",
       "      <th>BHK</th>\n",
       "      <th>Bathroom</th>\n",
       "      <th>Furnishing</th>\n",
       "      <th>Locality</th>\n",
       "      <th>Total_sqft</th>\n",
       "      <th>Price (in Lakhs)</th>\n",
       "    </tr>\n",
       "  </thead>\n",
       "  <tbody>\n",
       "    <tr>\n",
       "      <th>0</th>\n",
       "      <td>3</td>\n",
       "      <td>2.0</td>\n",
       "      <td>Semi-Furnished</td>\n",
       "      <td>Rohini Sector 25</td>\n",
       "      <td>6500.0</td>\n",
       "      <td>65.00</td>\n",
       "    </tr>\n",
       "    <tr>\n",
       "      <th>1</th>\n",
       "      <td>2</td>\n",
       "      <td>2.0</td>\n",
       "      <td>Semi-Furnished</td>\n",
       "      <td>J R Designers Floors, Rohini Sector 24</td>\n",
       "      <td>6667.0</td>\n",
       "      <td>50.00</td>\n",
       "    </tr>\n",
       "    <tr>\n",
       "      <th>2</th>\n",
       "      <td>2</td>\n",
       "      <td>2.0</td>\n",
       "      <td>Furnished</td>\n",
       "      <td>Citizen Apartment, Rohini Sector 13</td>\n",
       "      <td>6667.0</td>\n",
       "      <td>155.00</td>\n",
       "    </tr>\n",
       "    <tr>\n",
       "      <th>3</th>\n",
       "      <td>2</td>\n",
       "      <td>2.0</td>\n",
       "      <td>Semi-Furnished</td>\n",
       "      <td>Rohini Sector 24</td>\n",
       "      <td>6667.0</td>\n",
       "      <td>42.00</td>\n",
       "    </tr>\n",
       "    <tr>\n",
       "      <th>4</th>\n",
       "      <td>2</td>\n",
       "      <td>2.0</td>\n",
       "      <td>Semi-Furnished</td>\n",
       "      <td>Rohini Sector 24</td>\n",
       "      <td>6667.0</td>\n",
       "      <td>62.00</td>\n",
       "    </tr>\n",
       "  </tbody>\n",
       "</table>\n",
       "</div>"
      ],
      "text/plain": [
       "   BHK  Bathroom      Furnishing                                Locality  \\\n",
       "0    3       2.0  Semi-Furnished                        Rohini Sector 25   \n",
       "1    2       2.0  Semi-Furnished  J R Designers Floors, Rohini Sector 24   \n",
       "2    2       2.0       Furnished     Citizen Apartment, Rohini Sector 13   \n",
       "3    2       2.0  Semi-Furnished                        Rohini Sector 24   \n",
       "4    2       2.0  Semi-Furnished                       Rohini Sector 24    \n",
       "\n",
       "   Total_sqft Price (in Lakhs)  \n",
       "0      6500.0            65.00  \n",
       "1      6667.0            50.00  \n",
       "2      6667.0           155.00  \n",
       "3      6667.0            42.00  \n",
       "4      6667.0            62.00  "
      ]
     },
     "execution_count": 9,
     "metadata": {},
     "output_type": "execute_result"
    }
   ],
   "source": [
    "#Replacing irrelevent data \n",
    "df1['Furnishing']=df1['Furnishing'].replace(2.0,'Not Known')\n",
    "df1.head()"
   ]
  },
  {
   "cell_type": "code",
   "execution_count": 10,
   "id": "4e45bcce-a8f7-47c4-8706-447834c1e865",
   "metadata": {},
   "outputs": [
    {
     "data": {
      "text/html": [
       "<div>\n",
       "<style scoped>\n",
       "    .dataframe tbody tr th:only-of-type {\n",
       "        vertical-align: middle;\n",
       "    }\n",
       "\n",
       "    .dataframe tbody tr th {\n",
       "        vertical-align: top;\n",
       "    }\n",
       "\n",
       "    .dataframe thead th {\n",
       "        text-align: right;\n",
       "    }\n",
       "</style>\n",
       "<table border=\"1\" class=\"dataframe\">\n",
       "  <thead>\n",
       "    <tr style=\"text-align: right;\">\n",
       "      <th></th>\n",
       "      <th>BHK</th>\n",
       "      <th>Bathroom</th>\n",
       "      <th>Furnishing</th>\n",
       "      <th>Locality</th>\n",
       "      <th>Total_sqft</th>\n",
       "      <th>Price (in Lakhs)</th>\n",
       "    </tr>\n",
       "  </thead>\n",
       "  <tbody>\n",
       "    <tr>\n",
       "      <th>0</th>\n",
       "      <td>3</td>\n",
       "      <td>2.0</td>\n",
       "      <td>Semi-Furnished</td>\n",
       "      <td>Rohini Sector 25</td>\n",
       "      <td>6500.0</td>\n",
       "      <td>65.00</td>\n",
       "    </tr>\n",
       "    <tr>\n",
       "      <th>1</th>\n",
       "      <td>2</td>\n",
       "      <td>2.0</td>\n",
       "      <td>Semi-Furnished</td>\n",
       "      <td>J R Designers Floors, Rohini Sector 24</td>\n",
       "      <td>6667.0</td>\n",
       "      <td>50.00</td>\n",
       "    </tr>\n",
       "    <tr>\n",
       "      <th>2</th>\n",
       "      <td>2</td>\n",
       "      <td>2.0</td>\n",
       "      <td>Furnished</td>\n",
       "      <td>Citizen Apartment, Rohini Sector 13</td>\n",
       "      <td>6667.0</td>\n",
       "      <td>155.00</td>\n",
       "    </tr>\n",
       "    <tr>\n",
       "      <th>3</th>\n",
       "      <td>2</td>\n",
       "      <td>2.0</td>\n",
       "      <td>Semi-Furnished</td>\n",
       "      <td>Rohini Sector 24</td>\n",
       "      <td>6667.0</td>\n",
       "      <td>42.00</td>\n",
       "    </tr>\n",
       "    <tr>\n",
       "      <th>4</th>\n",
       "      <td>2</td>\n",
       "      <td>2.0</td>\n",
       "      <td>Semi-Furnished</td>\n",
       "      <td>Rohini Sector 24</td>\n",
       "      <td>6667.0</td>\n",
       "      <td>62.00</td>\n",
       "    </tr>\n",
       "  </tbody>\n",
       "</table>\n",
       "</div>"
      ],
      "text/plain": [
       "   BHK  Bathroom      Furnishing                                Locality  \\\n",
       "0    3       2.0  Semi-Furnished                        Rohini Sector 25   \n",
       "1    2       2.0  Semi-Furnished  J R Designers Floors, Rohini Sector 24   \n",
       "2    2       2.0       Furnished     Citizen Apartment, Rohini Sector 13   \n",
       "3    2       2.0  Semi-Furnished                        Rohini Sector 24   \n",
       "4    2       2.0  Semi-Furnished                       Rohini Sector 24    \n",
       "\n",
       "   Total_sqft Price (in Lakhs)  \n",
       "0      6500.0            65.00  \n",
       "1      6667.0            50.00  \n",
       "2      6667.0           155.00  \n",
       "3      6667.0            42.00  \n",
       "4      6667.0            62.00  "
      ]
     },
     "execution_count": 10,
     "metadata": {},
     "output_type": "execute_result"
    }
   ],
   "source": [
    "#Filling nan values of column 'Total_sqft' with 0\n",
    "df1['Total_sqft'] = df1['Total_sqft'].fillna(value=0)\n",
    "df1.head()"
   ]
  },
  {
   "cell_type": "code",
   "execution_count": 11,
   "id": "dbf1ba3c-5b26-442c-bac9-ed5b99dfa8dc",
   "metadata": {},
   "outputs": [
    {
     "data": {
      "text/plain": [
       "BHK                 0\n",
       "Bathroom            0\n",
       "Furnishing          0\n",
       "Locality            0\n",
       "Total_sqft          0\n",
       "Price (in Lakhs)    0\n",
       "dtype: int64"
      ]
     },
     "execution_count": 11,
     "metadata": {},
     "output_type": "execute_result"
    }
   ],
   "source": [
    "#Again Checking for NaN values\n",
    "df1.isnull().sum()"
   ]
  },
  {
   "cell_type": "markdown",
   "id": "850e72eb-3ee4-4829-a9ff-ad81bdc47134",
   "metadata": {},
   "source": [
    "Handled Missing values.."
   ]
  },
  {
   "cell_type": "code",
   "execution_count": 12,
   "id": "6393d37a-2cdd-4d75-81d6-1bb034ae412e",
   "metadata": {},
   "outputs": [
    {
     "data": {
      "text/plain": [
       "BHK                   int64\n",
       "Bathroom            float64\n",
       "Furnishing           object\n",
       "Locality             object\n",
       "Total_sqft          float64\n",
       "Price (in Lakhs)     object\n",
       "dtype: object"
      ]
     },
     "execution_count": 12,
     "metadata": {},
     "output_type": "execute_result"
    }
   ],
   "source": [
    "df1.dtypes"
   ]
  },
  {
   "cell_type": "code",
   "execution_count": 13,
   "id": "4f82477e-6bd8-4a87-aa2c-16574b02d42a",
   "metadata": {},
   "outputs": [],
   "source": [
    "#Changing data type of column 'Price (in Lakhs)' to float\n",
    "df1['Price (in Lakhs)'] = df1['Price (in Lakhs)'].astype(float)"
   ]
  },
  {
   "cell_type": "code",
   "execution_count": 14,
   "id": "c80ef5f9-41e3-43ae-b54b-6dc825b8ebac",
   "metadata": {},
   "outputs": [
    {
     "data": {
      "text/html": [
       "<div>\n",
       "<style scoped>\n",
       "    .dataframe tbody tr th:only-of-type {\n",
       "        vertical-align: middle;\n",
       "    }\n",
       "\n",
       "    .dataframe tbody tr th {\n",
       "        vertical-align: top;\n",
       "    }\n",
       "\n",
       "    .dataframe thead th {\n",
       "        text-align: right;\n",
       "    }\n",
       "</style>\n",
       "<table border=\"1\" class=\"dataframe\">\n",
       "  <thead>\n",
       "    <tr style=\"text-align: right;\">\n",
       "      <th></th>\n",
       "      <th>BHK</th>\n",
       "      <th>Bathroom</th>\n",
       "      <th>Furnishing</th>\n",
       "      <th>Locality</th>\n",
       "      <th>Total_sqft</th>\n",
       "      <th>Price (in Lakhs)</th>\n",
       "      <th>price_per_sqft</th>\n",
       "    </tr>\n",
       "  </thead>\n",
       "  <tbody>\n",
       "    <tr>\n",
       "      <th>0</th>\n",
       "      <td>3</td>\n",
       "      <td>2.0</td>\n",
       "      <td>Semi-Furnished</td>\n",
       "      <td>Rohini Sector 25</td>\n",
       "      <td>6500.0</td>\n",
       "      <td>65.0</td>\n",
       "      <td>1000.000000</td>\n",
       "    </tr>\n",
       "    <tr>\n",
       "      <th>1</th>\n",
       "      <td>2</td>\n",
       "      <td>2.0</td>\n",
       "      <td>Semi-Furnished</td>\n",
       "      <td>J R Designers Floors, Rohini Sector 24</td>\n",
       "      <td>6667.0</td>\n",
       "      <td>50.0</td>\n",
       "      <td>749.962502</td>\n",
       "    </tr>\n",
       "    <tr>\n",
       "      <th>2</th>\n",
       "      <td>2</td>\n",
       "      <td>2.0</td>\n",
       "      <td>Furnished</td>\n",
       "      <td>Citizen Apartment, Rohini Sector 13</td>\n",
       "      <td>6667.0</td>\n",
       "      <td>155.0</td>\n",
       "      <td>2324.883756</td>\n",
       "    </tr>\n",
       "    <tr>\n",
       "      <th>3</th>\n",
       "      <td>2</td>\n",
       "      <td>2.0</td>\n",
       "      <td>Semi-Furnished</td>\n",
       "      <td>Rohini Sector 24</td>\n",
       "      <td>6667.0</td>\n",
       "      <td>42.0</td>\n",
       "      <td>629.968502</td>\n",
       "    </tr>\n",
       "    <tr>\n",
       "      <th>4</th>\n",
       "      <td>2</td>\n",
       "      <td>2.0</td>\n",
       "      <td>Semi-Furnished</td>\n",
       "      <td>Rohini Sector 24</td>\n",
       "      <td>6667.0</td>\n",
       "      <td>62.0</td>\n",
       "      <td>929.953502</td>\n",
       "    </tr>\n",
       "  </tbody>\n",
       "</table>\n",
       "</div>"
      ],
      "text/plain": [
       "   BHK  Bathroom      Furnishing                                Locality  \\\n",
       "0    3       2.0  Semi-Furnished                        Rohini Sector 25   \n",
       "1    2       2.0  Semi-Furnished  J R Designers Floors, Rohini Sector 24   \n",
       "2    2       2.0       Furnished     Citizen Apartment, Rohini Sector 13   \n",
       "3    2       2.0  Semi-Furnished                        Rohini Sector 24   \n",
       "4    2       2.0  Semi-Furnished                       Rohini Sector 24    \n",
       "\n",
       "   Total_sqft  Price (in Lakhs)  price_per_sqft  \n",
       "0      6500.0              65.0     1000.000000  \n",
       "1      6667.0              50.0      749.962502  \n",
       "2      6667.0             155.0     2324.883756  \n",
       "3      6667.0              42.0      629.968502  \n",
       "4      6667.0              62.0      929.953502  "
      ]
     },
     "execution_count": 14,
     "metadata": {},
     "output_type": "execute_result"
    }
   ],
   "source": [
    "#Adding column 'price_per_sqft'\n",
    "\n",
    "df1['price_per_sqft'] = df1['Price (in Lakhs)']*100000 / df1['Total_sqft']\n",
    "df1.head()"
   ]
  },
  {
   "cell_type": "markdown",
   "id": "f3fb8bc9-c76e-40a7-bd85-232470d19b41",
   "metadata": {},
   "source": [
    "~ Handling 'Locality' column (Generalizing) "
   ]
  },
  {
   "cell_type": "code",
   "execution_count": 15,
   "id": "b20ebd27-33a9-4597-84c3-2b5eb5f2bb25",
   "metadata": {},
   "outputs": [
    {
     "data": {
      "text/plain": [
       "344"
      ]
     },
     "execution_count": 15,
     "metadata": {},
     "output_type": "execute_result"
    }
   ],
   "source": [
    "len(df1.Locality.unique())"
   ]
  },
  {
   "cell_type": "code",
   "execution_count": 16,
   "id": "3df1ad7c-a325-4e6a-978f-a3c4bb9fbf47",
   "metadata": {},
   "outputs": [
    {
     "data": {
      "text/plain": [
       "Locality\n",
       "Lajpat Nagar 3                                          34\n",
       "Lajpat Nagar 2                                          33\n",
       "J R Designers Floors, Rohini Sector 24                  31\n",
       "Yamuna Vihar, Shahdara                                  30\n",
       "Kailash Colony, Greater Kailash                         30\n",
       "                                                        ..\n",
       "Paschim Vihar Block B2                                   1\n",
       "Delhi Homes, Rohini Sector 24                            1\n",
       "Defence Officers Apartment, Aashirwaad Chowk, Dwarka     1\n",
       "Patel Nagar South, Patel Nagar                           1\n",
       "Zakir Nagar, New Friends Colony                          1\n",
       "Name: Locality, Length: 333, dtype: int64"
      ]
     },
     "execution_count": 16,
     "metadata": {},
     "output_type": "execute_result"
    }
   ],
   "source": [
    "# Grouping all locations \n",
    "df1.Locality = df1.Locality.apply(lambda x : x.strip())\n",
    "Locality_stats = df1.groupby('Locality')['Locality'].agg('count').sort_values(ascending=False)\n",
    "Locality_stats"
   ]
  },
  {
   "cell_type": "code",
   "execution_count": 17,
   "id": "c7ed445f-486d-48ac-87ab-e1074bd67716",
   "metadata": {},
   "outputs": [
    {
     "name": "stdout",
     "output_type": "stream",
     "text": [
      "163\n"
     ]
    },
    {
     "data": {
      "text/plain": [
       "Locality\n",
       "Sanchar Vihar Apartment, Aashirwaad Chowk, Dwarka                 1\n",
       "Sanskriti Apartment, Rohini Sector 28                             1\n",
       "Saptrishi Apartment, Rohini Sector 23                             1\n",
       "Rohini ( 1 km from Shahbad Dairy, Rohini)                         1\n",
       "Saraswati Narmada Ganga Yamuna Apartment, Vasant Kunj Sector D    1\n",
       "                                                                 ..\n",
       "Paschim Vihar Block B2                                            1\n",
       "Delhi Homes, Rohini Sector 24                                     1\n",
       "Defence Officers Apartment, Aashirwaad Chowk, Dwarka              1\n",
       "Patel Nagar South, Patel Nagar                                    1\n",
       "Zakir Nagar, New Friends Colony                                   1\n",
       "Name: Locality, Length: 163, dtype: int64"
      ]
     },
     "execution_count": 17,
     "metadata": {},
     "output_type": "execute_result"
    }
   ],
   "source": [
    "#Segregating locations with value 1 \n",
    "print(len(Locality_stats[Locality_stats<=1]))\n",
    "Locality_stats_lessthanequal_1= Locality_stats[Locality_stats<=1]\n",
    "Locality_stats_lessthanequal_1\n"
   ]
  },
  {
   "cell_type": "code",
   "execution_count": 18,
   "id": "eec5eb3c-51ba-4a18-8cf7-08129c1d19b3",
   "metadata": {},
   "outputs": [],
   "source": [
    "#Repalcing these locations with 'Other' --- Generalizing\n",
    "df1.Locality = df1.Locality.apply(lambda x: 'Other' if x in Locality_stats_lessthanequal_1 else x)\n"
   ]
  },
  {
   "cell_type": "code",
   "execution_count": 19,
   "id": "f5336b07-e39c-4ada-938b-6754bf48c039",
   "metadata": {},
   "outputs": [
    {
     "data": {
      "text/plain": [
       "171"
      ]
     },
     "execution_count": 19,
     "metadata": {},
     "output_type": "execute_result"
    }
   ],
   "source": [
    "#Hence the total unique locations reduced to 171\n",
    "len(df1.Locality.unique())"
   ]
  },
  {
   "cell_type": "code",
   "execution_count": 20,
   "id": "7ef27977-a419-4780-b600-b65ea1489f0b",
   "metadata": {},
   "outputs": [
    {
     "data": {
      "text/html": [
       "<div>\n",
       "<style scoped>\n",
       "    .dataframe tbody tr th:only-of-type {\n",
       "        vertical-align: middle;\n",
       "    }\n",
       "\n",
       "    .dataframe tbody tr th {\n",
       "        vertical-align: top;\n",
       "    }\n",
       "\n",
       "    .dataframe thead th {\n",
       "        text-align: right;\n",
       "    }\n",
       "</style>\n",
       "<table border=\"1\" class=\"dataframe\">\n",
       "  <thead>\n",
       "    <tr style=\"text-align: right;\">\n",
       "      <th></th>\n",
       "      <th>BHK</th>\n",
       "      <th>Bathroom</th>\n",
       "      <th>Furnishing</th>\n",
       "      <th>Locality</th>\n",
       "      <th>Total_sqft</th>\n",
       "      <th>Price (in Lakhs)</th>\n",
       "      <th>price_per_sqft</th>\n",
       "    </tr>\n",
       "  </thead>\n",
       "  <tbody>\n",
       "    <tr>\n",
       "      <th>0</th>\n",
       "      <td>3</td>\n",
       "      <td>2.0</td>\n",
       "      <td>Semi-Furnished</td>\n",
       "      <td>Rohini Sector 25</td>\n",
       "      <td>6500.0</td>\n",
       "      <td>65.0</td>\n",
       "      <td>1000.000000</td>\n",
       "    </tr>\n",
       "    <tr>\n",
       "      <th>1</th>\n",
       "      <td>2</td>\n",
       "      <td>2.0</td>\n",
       "      <td>Semi-Furnished</td>\n",
       "      <td>J R Designers Floors, Rohini Sector 24</td>\n",
       "      <td>6667.0</td>\n",
       "      <td>50.0</td>\n",
       "      <td>749.962502</td>\n",
       "    </tr>\n",
       "    <tr>\n",
       "      <th>2</th>\n",
       "      <td>2</td>\n",
       "      <td>2.0</td>\n",
       "      <td>Furnished</td>\n",
       "      <td>Other</td>\n",
       "      <td>6667.0</td>\n",
       "      <td>155.0</td>\n",
       "      <td>2324.883756</td>\n",
       "    </tr>\n",
       "    <tr>\n",
       "      <th>3</th>\n",
       "      <td>2</td>\n",
       "      <td>2.0</td>\n",
       "      <td>Semi-Furnished</td>\n",
       "      <td>Rohini Sector 24</td>\n",
       "      <td>6667.0</td>\n",
       "      <td>42.0</td>\n",
       "      <td>629.968502</td>\n",
       "    </tr>\n",
       "    <tr>\n",
       "      <th>4</th>\n",
       "      <td>2</td>\n",
       "      <td>2.0</td>\n",
       "      <td>Semi-Furnished</td>\n",
       "      <td>Rohini Sector 24</td>\n",
       "      <td>6667.0</td>\n",
       "      <td>62.0</td>\n",
       "      <td>929.953502</td>\n",
       "    </tr>\n",
       "    <tr>\n",
       "      <th>5</th>\n",
       "      <td>4</td>\n",
       "      <td>3.0</td>\n",
       "      <td>Semi-Furnished</td>\n",
       "      <td>Rohini Sector 24</td>\n",
       "      <td>6667.0</td>\n",
       "      <td>155.0</td>\n",
       "      <td>2324.883756</td>\n",
       "    </tr>\n",
       "    <tr>\n",
       "      <th>6</th>\n",
       "      <td>4</td>\n",
       "      <td>3.0</td>\n",
       "      <td>Semi-Furnished</td>\n",
       "      <td>Rohini Sector 24</td>\n",
       "      <td>6667.0</td>\n",
       "      <td>100.0</td>\n",
       "      <td>1499.925004</td>\n",
       "    </tr>\n",
       "    <tr>\n",
       "      <th>7</th>\n",
       "      <td>2</td>\n",
       "      <td>2.0</td>\n",
       "      <td>Semi-Furnished</td>\n",
       "      <td>Other</td>\n",
       "      <td>6154.0</td>\n",
       "      <td>40.0</td>\n",
       "      <td>649.983750</td>\n",
       "    </tr>\n",
       "    <tr>\n",
       "      <th>8</th>\n",
       "      <td>3</td>\n",
       "      <td>3.0</td>\n",
       "      <td>Unfurnished</td>\n",
       "      <td>Other</td>\n",
       "      <td>6154.0</td>\n",
       "      <td>68.0</td>\n",
       "      <td>1104.972376</td>\n",
       "    </tr>\n",
       "    <tr>\n",
       "      <th>9</th>\n",
       "      <td>4</td>\n",
       "      <td>4.0</td>\n",
       "      <td>Semi-Furnished</td>\n",
       "      <td>Rohini Sector 22</td>\n",
       "      <td>6154.0</td>\n",
       "      <td>150.0</td>\n",
       "      <td>2437.439064</td>\n",
       "    </tr>\n",
       "  </tbody>\n",
       "</table>\n",
       "</div>"
      ],
      "text/plain": [
       "   BHK  Bathroom      Furnishing                                Locality  \\\n",
       "0    3       2.0  Semi-Furnished                        Rohini Sector 25   \n",
       "1    2       2.0  Semi-Furnished  J R Designers Floors, Rohini Sector 24   \n",
       "2    2       2.0       Furnished                                   Other   \n",
       "3    2       2.0  Semi-Furnished                        Rohini Sector 24   \n",
       "4    2       2.0  Semi-Furnished                        Rohini Sector 24   \n",
       "5    4       3.0  Semi-Furnished                        Rohini Sector 24   \n",
       "6    4       3.0  Semi-Furnished                        Rohini Sector 24   \n",
       "7    2       2.0  Semi-Furnished                                   Other   \n",
       "8    3       3.0     Unfurnished                                   Other   \n",
       "9    4       4.0  Semi-Furnished                        Rohini Sector 22   \n",
       "\n",
       "   Total_sqft  Price (in Lakhs)  price_per_sqft  \n",
       "0      6500.0              65.0     1000.000000  \n",
       "1      6667.0              50.0      749.962502  \n",
       "2      6667.0             155.0     2324.883756  \n",
       "3      6667.0              42.0      629.968502  \n",
       "4      6667.0              62.0      929.953502  \n",
       "5      6667.0             155.0     2324.883756  \n",
       "6      6667.0             100.0     1499.925004  \n",
       "7      6154.0              40.0      649.983750  \n",
       "8      6154.0              68.0     1104.972376  \n",
       "9      6154.0             150.0     2437.439064  "
      ]
     },
     "execution_count": 20,
     "metadata": {},
     "output_type": "execute_result"
    }
   ],
   "source": [
    "df1.head(10)"
   ]
  },
  {
   "cell_type": "markdown",
   "id": "68918f8f-05db-4f43-8cfd-b145bdffe698",
   "metadata": {},
   "source": [
    "~ Removing Outliers"
   ]
  },
  {
   "cell_type": "code",
   "execution_count": 21,
   "id": "89fd8cfb-b393-41f2-9843-efb9f717c23f",
   "metadata": {},
   "outputs": [
    {
     "data": {
      "text/plain": [
       "(1259, 7)"
      ]
     },
     "execution_count": 21,
     "metadata": {},
     "output_type": "execute_result"
    }
   ],
   "source": [
    "df1.shape"
   ]
  },
  {
   "cell_type": "code",
   "execution_count": 22,
   "id": "8992345c-035f-4f4e-bfa3-7bce9d89cac9",
   "metadata": {},
   "outputs": [
    {
     "data": {
      "text/html": [
       "<div>\n",
       "<style scoped>\n",
       "    .dataframe tbody tr th:only-of-type {\n",
       "        vertical-align: middle;\n",
       "    }\n",
       "\n",
       "    .dataframe tbody tr th {\n",
       "        vertical-align: top;\n",
       "    }\n",
       "\n",
       "    .dataframe thead th {\n",
       "        text-align: right;\n",
       "    }\n",
       "</style>\n",
       "<table border=\"1\" class=\"dataframe\">\n",
       "  <thead>\n",
       "    <tr style=\"text-align: right;\">\n",
       "      <th></th>\n",
       "      <th>BHK</th>\n",
       "      <th>Bathroom</th>\n",
       "      <th>Furnishing</th>\n",
       "      <th>Locality</th>\n",
       "      <th>Total_sqft</th>\n",
       "      <th>Price (in Lakhs)</th>\n",
       "      <th>price_per_sqft</th>\n",
       "    </tr>\n",
       "  </thead>\n",
       "  <tbody>\n",
       "    <tr>\n",
       "      <th>30</th>\n",
       "      <td>1</td>\n",
       "      <td>2.0</td>\n",
       "      <td>Unfurnished</td>\n",
       "      <td>Lajpat Nagar 2</td>\n",
       "      <td>2.0</td>\n",
       "      <td>135.0</td>\n",
       "      <td>6750000.0</td>\n",
       "    </tr>\n",
       "    <tr>\n",
       "      <th>31</th>\n",
       "      <td>2</td>\n",
       "      <td>2.0</td>\n",
       "      <td>Unfurnished</td>\n",
       "      <td>Lajpat Nagar 1</td>\n",
       "      <td>2.0</td>\n",
       "      <td>150.0</td>\n",
       "      <td>7500000.0</td>\n",
       "    </tr>\n",
       "    <tr>\n",
       "      <th>32</th>\n",
       "      <td>2</td>\n",
       "      <td>2.0</td>\n",
       "      <td>Unfurnished</td>\n",
       "      <td>Lajpat Nagar</td>\n",
       "      <td>2.0</td>\n",
       "      <td>105.0</td>\n",
       "      <td>5250000.0</td>\n",
       "    </tr>\n",
       "    <tr>\n",
       "      <th>33</th>\n",
       "      <td>3</td>\n",
       "      <td>2.0</td>\n",
       "      <td>Semi-Furnished</td>\n",
       "      <td>Vikram Vihar, Lajpat Nagar</td>\n",
       "      <td>2.0</td>\n",
       "      <td>225.0</td>\n",
       "      <td>11250000.0</td>\n",
       "    </tr>\n",
       "    <tr>\n",
       "      <th>34</th>\n",
       "      <td>2</td>\n",
       "      <td>2.0</td>\n",
       "      <td>Unfurnished</td>\n",
       "      <td>Lajpat Nagar 4</td>\n",
       "      <td>2.0</td>\n",
       "      <td>136.0</td>\n",
       "      <td>6800000.0</td>\n",
       "    </tr>\n",
       "  </tbody>\n",
       "</table>\n",
       "</div>"
      ],
      "text/plain": [
       "    BHK  Bathroom      Furnishing                    Locality  Total_sqft  \\\n",
       "30    1       2.0     Unfurnished              Lajpat Nagar 2         2.0   \n",
       "31    2       2.0     Unfurnished              Lajpat Nagar 1         2.0   \n",
       "32    2       2.0     Unfurnished                Lajpat Nagar         2.0   \n",
       "33    3       2.0  Semi-Furnished  Vikram Vihar, Lajpat Nagar         2.0   \n",
       "34    2       2.0     Unfurnished              Lajpat Nagar 4         2.0   \n",
       "\n",
       "    Price (in Lakhs)  price_per_sqft  \n",
       "30             135.0       6750000.0  \n",
       "31             150.0       7500000.0  \n",
       "32             105.0       5250000.0  \n",
       "33             225.0      11250000.0  \n",
       "34             136.0       6800000.0  "
      ]
     },
     "execution_count": 22,
     "metadata": {},
     "output_type": "execute_result"
    }
   ],
   "source": [
    "#Ideally Total area/BHK should be greater than 300\n",
    "\n",
    "df1[df1['Total_sqft']/df1['BHK']<300].head()"
   ]
  },
  {
   "cell_type": "code",
   "execution_count": 23,
   "id": "a9515672-ffeb-415d-9a6c-13b40516c488",
   "metadata": {},
   "outputs": [
    {
     "data": {
      "text/plain": [
       "(1018, 7)"
      ]
     },
     "execution_count": 23,
     "metadata": {},
     "output_type": "execute_result"
    }
   ],
   "source": [
    "#Removing rows with values less than 300\n",
    "df2 =df1[~(df1['Total_sqft']/df1['BHK']<300)]\n",
    "#After removing ouliers from this column the shape is:\n",
    "df2.shape"
   ]
  },
  {
   "cell_type": "code",
   "execution_count": 24,
   "id": "0917d788-a062-49d0-bffa-2f284c629663",
   "metadata": {},
   "outputs": [
    {
     "data": {
      "text/plain": [
       "count     1018.000000\n",
       "mean      1733.815554\n",
       "std       2125.692423\n",
       "min         34.999708\n",
       "25%        630.689025\n",
       "50%       1200.019200\n",
       "75%       2120.032470\n",
       "max      31319.910515\n",
       "Name: price_per_sqft, dtype: float64"
      ]
     },
     "execution_count": 24,
     "metadata": {},
     "output_type": "execute_result"
    }
   ],
   "source": [
    "df2.price_per_sqft.describe()"
   ]
  },
  {
   "cell_type": "markdown",
   "id": "6b7c0833-f114-4305-bb47-e354511c78a9",
   "metadata": {},
   "source": [
    "~ Removing Outliers from column 'Total_sqft' using IQR method"
   ]
  },
  {
   "cell_type": "code",
   "execution_count": 25,
   "id": "70e9b975-fbbc-417a-985b-e3747ceea265",
   "metadata": {},
   "outputs": [
    {
     "data": {
      "text/plain": [
       "(973, 7)"
      ]
     },
     "execution_count": 25,
     "metadata": {},
     "output_type": "execute_result"
    }
   ],
   "source": [
    "Q1 = df2['Total_sqft'].quantile(0.25)\n",
    "Q3 = df2['Total_sqft'].quantile(0.75)\n",
    "IQR = Q3 - Q1\n",
    "\n",
    "# Determining the boundaries for outliers\n",
    "lower_bound = Q1 - 1.5 * IQR\n",
    "upper_bound = Q3 + 1.5 * IQR\n",
    "# Filtering out the outliers\n",
    "df3 = df2[(df2['Total_sqft'] >= lower_bound) & (df2['Total_sqft'] <= upper_bound)]\n",
    "df3.shape"
   ]
  },
  {
   "cell_type": "markdown",
   "id": "25eebdbc-59bc-4cbd-9ba0-a2ada32ab31b",
   "metadata": {},
   "source": [
    "~ Removing Outliers from column 'Price (in Lakhs)' using IQR method"
   ]
  },
  {
   "cell_type": "code",
   "execution_count": 26,
   "id": "8ba36b0a-da5c-417d-bdac-b03902eaa6ff",
   "metadata": {},
   "outputs": [
    {
     "data": {
      "text/plain": [
       "(893, 7)"
      ]
     },
     "execution_count": 26,
     "metadata": {},
     "output_type": "execute_result"
    }
   ],
   "source": [
    "Q1 = df3['Price (in Lakhs)'].quantile(0.25)\n",
    "Q3 = df3['Price (in Lakhs)'].quantile(0.75)\n",
    "IQR = Q3 - Q1\n",
    "\n",
    "# Determining the boundaries for outliers\n",
    "lower_bound = Q1 - 1.5 * IQR\n",
    "upper_bound = Q3 + 1.5 * IQR\n",
    "# Filtering out the outliers\n",
    "df4 = df3[(df3['Price (in Lakhs)'] >= lower_bound) & (df3['Price (in Lakhs)'] <= upper_bound)]\n",
    "df4.shape"
   ]
  },
  {
   "cell_type": "markdown",
   "id": "1a517e4b-4a39-45f9-a8ba-1f592046cae6",
   "metadata": {},
   "source": [
    "~ Removing Outliers from column 'price_per_sqft' using IQR method"
   ]
  },
  {
   "cell_type": "code",
   "execution_count": 27,
   "id": "c4c22750-1a42-4aca-8fb8-943206ddf053",
   "metadata": {},
   "outputs": [
    {
     "data": {
      "text/plain": [
       "(834, 7)"
      ]
     },
     "execution_count": 27,
     "metadata": {},
     "output_type": "execute_result"
    }
   ],
   "source": [
    "Q1 = df4['price_per_sqft'].quantile(0.25)\n",
    "Q3 = df4['price_per_sqft'].quantile(0.75)\n",
    "IQR = Q3 - Q1\n",
    "\n",
    "# Determining the boundaries for outliers\n",
    "lower_bound = Q1 - 1.5 * IQR\n",
    "upper_bound = Q3 + 1.5 * IQR\n",
    "# Filtering out the outliers\n",
    "df5 = df4[(df4['price_per_sqft'] >= lower_bound) & (df4['price_per_sqft'] <= upper_bound)]\n",
    "df5.shape"
   ]
  },
  {
   "cell_type": "markdown",
   "id": "17c4d4e8-2886-480c-9e77-df9f5db98c67",
   "metadata": {},
   "source": [
    "Visualizing 'price_per_sqft' column"
   ]
  },
  {
   "cell_type": "code",
   "execution_count": 28,
   "id": "f15980ce-1291-4ba9-b9be-e50702a80a51",
   "metadata": {},
   "outputs": [
    {
     "data": {
      "text/plain": [
       "Text(0, 0.5, 'Count')"
      ]
     },
     "execution_count": 28,
     "metadata": {},
     "output_type": "execute_result"
    },
    {
     "data": {
      "image/png": "[encoded data removed]",
      "text/plain": [
       "<Figure size 1000x500 with 1 Axes>"
      ]
     },
     "metadata": {},
     "output_type": "display_data"
    }
   ],
   "source": [
    "matplotlib.rcParams[\"figure.figsize\"]= (10,5)\n",
    "plt.hist(df5.price_per_sqft,rwidth=0.8)\n",
    "plt.xlabel(\"Price per Square feet\")\n",
    "plt.ylabel(\"Count\")"
   ]
  },
  {
   "cell_type": "markdown",
   "id": "ddba8197-878b-4837-b5d3-53fa81c2b9be",
   "metadata": {},
   "source": [
    "Visualizing Total Area (sqft) vs. Price(in lakhs)"
   ]
  },
  {
   "cell_type": "code",
   "execution_count": 29,
   "id": "1421d45d-e9e9-464d-9afa-45d22c18b5ca",
   "metadata": {},
   "outputs": [
    {
     "data": {
      "image/png": "[encoded data removed]",
      "text/plain": [
       "<Figure size 1000x500 with 1 Axes>"
      ]
     },
     "metadata": {},
     "output_type": "display_data"
    }
   ],
   "source": [
    "plt.figure(figsize=(10, 5))  \n",
    "plt.scatter(df5['Total_sqft'], df5['Price (in Lakhs)'], alpha=0.5,color='red',marker='+')\n",
    "plt.title('Scatter Plot of Total Area (sqft) vs. Price')\n",
    "plt.xlabel('Total Area in sqft')\n",
    "plt.ylabel('Total Price')\n",
    "plt.show()"
   ]
  },
  {
   "cell_type": "code",
   "execution_count": 30,
   "id": "39898b6e-e6db-4fa3-9ecb-aa6799075bba",
   "metadata": {},
   "outputs": [
    {
     "data": {
      "text/html": [
       "<div>\n",
       "<style scoped>\n",
       "    .dataframe tbody tr th:only-of-type {\n",
       "        vertical-align: middle;\n",
       "    }\n",
       "\n",
       "    .dataframe tbody tr th {\n",
       "        vertical-align: top;\n",
       "    }\n",
       "\n",
       "    .dataframe thead th {\n",
       "        text-align: right;\n",
       "    }\n",
       "</style>\n",
       "<table border=\"1\" class=\"dataframe\">\n",
       "  <thead>\n",
       "    <tr style=\"text-align: right;\">\n",
       "      <th></th>\n",
       "      <th>Abhimanyu Apartments, Vasundhara Enclave</th>\n",
       "      <th>Abul Fazal Enclave Part 1, Okhla</th>\n",
       "      <th>Abul Fazal Enclave Part-II, Okhla</th>\n",
       "      <th>Adarsh Homes, Dwarka Mor</th>\n",
       "      <th>Alaknanda</th>\n",
       "      <th>Amar Colony, Lajpat Nagar</th>\n",
       "      <th>Andheria Mor, Mehrauli</th>\n",
       "      <th>Arjun Nagar, Safdarjung Enclave</th>\n",
       "      <th>Ashirwad Apartments, Dwarka Sector 12</th>\n",
       "      <th>Balbir Nagar, Shahdara</th>\n",
       "      <th>...</th>\n",
       "      <th>Uttam Nagar West</th>\n",
       "      <th>Vasant Kunj</th>\n",
       "      <th>Vasant Kunj Sector C</th>\n",
       "      <th>Vasant Vihar Builder Floor, Vasant Vihar</th>\n",
       "      <th>Vasundhara Enclave</th>\n",
       "      <th>Vikram Vihar, Lajpat Nagar</th>\n",
       "      <th>Vinoba Puri, Lajpat Nagar</th>\n",
       "      <th>Virat Residency, Dwarka Mor</th>\n",
       "      <th>Yamuna Apartment, Alaknanda</th>\n",
       "      <th>Yamuna Vihar, Shahdara</th>\n",
       "    </tr>\n",
       "  </thead>\n",
       "  <tbody>\n",
       "    <tr>\n",
       "      <th>0</th>\n",
       "      <td>False</td>\n",
       "      <td>False</td>\n",
       "      <td>False</td>\n",
       "      <td>False</td>\n",
       "      <td>False</td>\n",
       "      <td>False</td>\n",
       "      <td>False</td>\n",
       "      <td>False</td>\n",
       "      <td>False</td>\n",
       "      <td>False</td>\n",
       "      <td>...</td>\n",
       "      <td>False</td>\n",
       "      <td>False</td>\n",
       "      <td>False</td>\n",
       "      <td>False</td>\n",
       "      <td>False</td>\n",
       "      <td>False</td>\n",
       "      <td>False</td>\n",
       "      <td>False</td>\n",
       "      <td>False</td>\n",
       "      <td>False</td>\n",
       "    </tr>\n",
       "    <tr>\n",
       "      <th>1</th>\n",
       "      <td>False</td>\n",
       "      <td>False</td>\n",
       "      <td>False</td>\n",
       "      <td>False</td>\n",
       "      <td>False</td>\n",
       "      <td>False</td>\n",
       "      <td>False</td>\n",
       "      <td>False</td>\n",
       "      <td>False</td>\n",
       "      <td>False</td>\n",
       "      <td>...</td>\n",
       "      <td>False</td>\n",
       "      <td>False</td>\n",
       "      <td>False</td>\n",
       "      <td>False</td>\n",
       "      <td>False</td>\n",
       "      <td>False</td>\n",
       "      <td>False</td>\n",
       "      <td>False</td>\n",
       "      <td>False</td>\n",
       "      <td>False</td>\n",
       "    </tr>\n",
       "    <tr>\n",
       "      <th>2</th>\n",
       "      <td>False</td>\n",
       "      <td>False</td>\n",
       "      <td>False</td>\n",
       "      <td>False</td>\n",
       "      <td>False</td>\n",
       "      <td>False</td>\n",
       "      <td>False</td>\n",
       "      <td>False</td>\n",
       "      <td>False</td>\n",
       "      <td>False</td>\n",
       "      <td>...</td>\n",
       "      <td>False</td>\n",
       "      <td>False</td>\n",
       "      <td>False</td>\n",
       "      <td>False</td>\n",
       "      <td>False</td>\n",
       "      <td>False</td>\n",
       "      <td>False</td>\n",
       "      <td>False</td>\n",
       "      <td>False</td>\n",
       "      <td>False</td>\n",
       "    </tr>\n",
       "    <tr>\n",
       "      <th>3</th>\n",
       "      <td>False</td>\n",
       "      <td>False</td>\n",
       "      <td>False</td>\n",
       "      <td>False</td>\n",
       "      <td>False</td>\n",
       "      <td>False</td>\n",
       "      <td>False</td>\n",
       "      <td>False</td>\n",
       "      <td>False</td>\n",
       "      <td>False</td>\n",
       "      <td>...</td>\n",
       "      <td>False</td>\n",
       "      <td>False</td>\n",
       "      <td>False</td>\n",
       "      <td>False</td>\n",
       "      <td>False</td>\n",
       "      <td>False</td>\n",
       "      <td>False</td>\n",
       "      <td>False</td>\n",
       "      <td>False</td>\n",
       "      <td>False</td>\n",
       "    </tr>\n",
       "    <tr>\n",
       "      <th>4</th>\n",
       "      <td>False</td>\n",
       "      <td>False</td>\n",
       "      <td>False</td>\n",
       "      <td>False</td>\n",
       "      <td>False</td>\n",
       "      <td>False</td>\n",
       "      <td>False</td>\n",
       "      <td>False</td>\n",
       "      <td>False</td>\n",
       "      <td>False</td>\n",
       "      <td>...</td>\n",
       "      <td>False</td>\n",
       "      <td>False</td>\n",
       "      <td>False</td>\n",
       "      <td>False</td>\n",
       "      <td>False</td>\n",
       "      <td>False</td>\n",
       "      <td>False</td>\n",
       "      <td>False</td>\n",
       "      <td>False</td>\n",
       "      <td>False</td>\n",
       "    </tr>\n",
       "  </tbody>\n",
       "</table>\n",
       "<p>5 rows × 149 columns</p>\n",
       "</div>"
      ],
      "text/plain": [
       "   Abhimanyu Apartments, Vasundhara Enclave  Abul Fazal Enclave Part 1, Okhla  \\\n",
       "0                                     False                             False   \n",
       "1                                     False                             False   \n",
       "2                                     False                             False   \n",
       "3                                     False                             False   \n",
       "4                                     False                             False   \n",
       "\n",
       "   Abul Fazal Enclave Part-II, Okhla  Adarsh Homes, Dwarka Mor  Alaknanda  \\\n",
       "0                              False                     False      False   \n",
       "1                              False                     False      False   \n",
       "2                              False                     False      False   \n",
       "3                              False                     False      False   \n",
       "4                              False                     False      False   \n",
       "\n",
       "   Amar Colony, Lajpat Nagar  Andheria Mor, Mehrauli  \\\n",
       "0                      False                   False   \n",
       "1                      False                   False   \n",
       "2                      False                   False   \n",
       "3                      False                   False   \n",
       "4                      False                   False   \n",
       "\n",
       "   Arjun Nagar, Safdarjung Enclave  Ashirwad Apartments, Dwarka Sector 12  \\\n",
       "0                            False                                  False   \n",
       "1                            False                                  False   \n",
       "2                            False                                  False   \n",
       "3                            False                                  False   \n",
       "4                            False                                  False   \n",
       "\n",
       "   Balbir Nagar, Shahdara  ...  Uttam Nagar West  Vasant Kunj  \\\n",
       "0                   False  ...             False        False   \n",
       "1                   False  ...             False        False   \n",
       "2                   False  ...             False        False   \n",
       "3                   False  ...             False        False   \n",
       "4                   False  ...             False        False   \n",
       "\n",
       "   Vasant Kunj Sector C  Vasant Vihar Builder Floor, Vasant Vihar  \\\n",
       "0                 False                                     False   \n",
       "1                 False                                     False   \n",
       "2                 False                                     False   \n",
       "3                 False                                     False   \n",
       "4                 False                                     False   \n",
       "\n",
       "   Vasundhara Enclave  Vikram Vihar, Lajpat Nagar  Vinoba Puri, Lajpat Nagar  \\\n",
       "0               False                       False                      False   \n",
       "1               False                       False                      False   \n",
       "2               False                       False                      False   \n",
       "3               False                       False                      False   \n",
       "4               False                       False                      False   \n",
       "\n",
       "   Virat Residency, Dwarka Mor  Yamuna Apartment, Alaknanda  \\\n",
       "0                        False                        False   \n",
       "1                        False                        False   \n",
       "2                        False                        False   \n",
       "3                        False                        False   \n",
       "4                        False                        False   \n",
       "\n",
       "   Yamuna Vihar, Shahdara  \n",
       "0                   False  \n",
       "1                   False  \n",
       "2                   False  \n",
       "3                   False  \n",
       "4                   False  \n",
       "\n",
       "[5 rows x 149 columns]"
      ]
     },
     "execution_count": 30,
     "metadata": {},
     "output_type": "execute_result"
    }
   ],
   "source": [
    "# Performed one-hot encoding on column 'Locality'\n",
    "\n",
    "dummies=pd.get_dummies(df5.Locality)\n",
    "dummies.head(5)"
   ]
  },
  {
   "cell_type": "code",
   "execution_count": 31,
   "id": "e7aee24a-0a90-4c11-8b5b-6c7a7ba501af",
   "metadata": {},
   "outputs": [
    {
     "data": {
      "text/html": [
       "<div>\n",
       "<style scoped>\n",
       "    .dataframe tbody tr th:only-of-type {\n",
       "        vertical-align: middle;\n",
       "    }\n",
       "\n",
       "    .dataframe tbody tr th {\n",
       "        vertical-align: top;\n",
       "    }\n",
       "\n",
       "    .dataframe thead th {\n",
       "        text-align: right;\n",
       "    }\n",
       "</style>\n",
       "<table border=\"1\" class=\"dataframe\">\n",
       "  <thead>\n",
       "    <tr style=\"text-align: right;\">\n",
       "      <th></th>\n",
       "      <th>BHK</th>\n",
       "      <th>Bathroom</th>\n",
       "      <th>Furnishing</th>\n",
       "      <th>Locality</th>\n",
       "      <th>Total_sqft</th>\n",
       "      <th>Price (in Lakhs)</th>\n",
       "      <th>price_per_sqft</th>\n",
       "      <th>Abhimanyu Apartments, Vasundhara Enclave</th>\n",
       "      <th>Abul Fazal Enclave Part 1, Okhla</th>\n",
       "      <th>Abul Fazal Enclave Part-II, Okhla</th>\n",
       "      <th>...</th>\n",
       "      <th>Uttam Nagar West</th>\n",
       "      <th>Vasant Kunj</th>\n",
       "      <th>Vasant Kunj Sector C</th>\n",
       "      <th>Vasant Vihar Builder Floor, Vasant Vihar</th>\n",
       "      <th>Vasundhara Enclave</th>\n",
       "      <th>Vikram Vihar, Lajpat Nagar</th>\n",
       "      <th>Vinoba Puri, Lajpat Nagar</th>\n",
       "      <th>Virat Residency, Dwarka Mor</th>\n",
       "      <th>Yamuna Apartment, Alaknanda</th>\n",
       "      <th>Yamuna Vihar, Shahdara</th>\n",
       "    </tr>\n",
       "  </thead>\n",
       "  <tbody>\n",
       "    <tr>\n",
       "      <th>0</th>\n",
       "      <td>3</td>\n",
       "      <td>2.0</td>\n",
       "      <td>Semi-Furnished</td>\n",
       "      <td>Rohini Sector 25</td>\n",
       "      <td>6500.0</td>\n",
       "      <td>65.0</td>\n",
       "      <td>1000.000000</td>\n",
       "      <td>False</td>\n",
       "      <td>False</td>\n",
       "      <td>False</td>\n",
       "      <td>...</td>\n",
       "      <td>False</td>\n",
       "      <td>False</td>\n",
       "      <td>False</td>\n",
       "      <td>False</td>\n",
       "      <td>False</td>\n",
       "      <td>False</td>\n",
       "      <td>False</td>\n",
       "      <td>False</td>\n",
       "      <td>False</td>\n",
       "      <td>False</td>\n",
       "    </tr>\n",
       "    <tr>\n",
       "      <th>1</th>\n",
       "      <td>2</td>\n",
       "      <td>2.0</td>\n",
       "      <td>Semi-Furnished</td>\n",
       "      <td>J R Designers Floors, Rohini Sector 24</td>\n",
       "      <td>6667.0</td>\n",
       "      <td>50.0</td>\n",
       "      <td>749.962502</td>\n",
       "      <td>False</td>\n",
       "      <td>False</td>\n",
       "      <td>False</td>\n",
       "      <td>...</td>\n",
       "      <td>False</td>\n",
       "      <td>False</td>\n",
       "      <td>False</td>\n",
       "      <td>False</td>\n",
       "      <td>False</td>\n",
       "      <td>False</td>\n",
       "      <td>False</td>\n",
       "      <td>False</td>\n",
       "      <td>False</td>\n",
       "      <td>False</td>\n",
       "    </tr>\n",
       "    <tr>\n",
       "      <th>2</th>\n",
       "      <td>2</td>\n",
       "      <td>2.0</td>\n",
       "      <td>Furnished</td>\n",
       "      <td>Other</td>\n",
       "      <td>6667.0</td>\n",
       "      <td>155.0</td>\n",
       "      <td>2324.883756</td>\n",
       "      <td>False</td>\n",
       "      <td>False</td>\n",
       "      <td>False</td>\n",
       "      <td>...</td>\n",
       "      <td>False</td>\n",
       "      <td>False</td>\n",
       "      <td>False</td>\n",
       "      <td>False</td>\n",
       "      <td>False</td>\n",
       "      <td>False</td>\n",
       "      <td>False</td>\n",
       "      <td>False</td>\n",
       "      <td>False</td>\n",
       "      <td>False</td>\n",
       "    </tr>\n",
       "    <tr>\n",
       "      <th>3</th>\n",
       "      <td>2</td>\n",
       "      <td>2.0</td>\n",
       "      <td>Semi-Furnished</td>\n",
       "      <td>Rohini Sector 24</td>\n",
       "      <td>6667.0</td>\n",
       "      <td>42.0</td>\n",
       "      <td>629.968502</td>\n",
       "      <td>False</td>\n",
       "      <td>False</td>\n",
       "      <td>False</td>\n",
       "      <td>...</td>\n",
       "      <td>False</td>\n",
       "      <td>False</td>\n",
       "      <td>False</td>\n",
       "      <td>False</td>\n",
       "      <td>False</td>\n",
       "      <td>False</td>\n",
       "      <td>False</td>\n",
       "      <td>False</td>\n",
       "      <td>False</td>\n",
       "      <td>False</td>\n",
       "    </tr>\n",
       "    <tr>\n",
       "      <th>4</th>\n",
       "      <td>2</td>\n",
       "      <td>2.0</td>\n",
       "      <td>Semi-Furnished</td>\n",
       "      <td>Rohini Sector 24</td>\n",
       "      <td>6667.0</td>\n",
       "      <td>62.0</td>\n",
       "      <td>929.953502</td>\n",
       "      <td>False</td>\n",
       "      <td>False</td>\n",
       "      <td>False</td>\n",
       "      <td>...</td>\n",
       "      <td>False</td>\n",
       "      <td>False</td>\n",
       "      <td>False</td>\n",
       "      <td>False</td>\n",
       "      <td>False</td>\n",
       "      <td>False</td>\n",
       "      <td>False</td>\n",
       "      <td>False</td>\n",
       "      <td>False</td>\n",
       "      <td>False</td>\n",
       "    </tr>\n",
       "  </tbody>\n",
       "</table>\n",
       "<p>5 rows × 155 columns</p>\n",
       "</div>"
      ],
      "text/plain": [
       "   BHK  Bathroom      Furnishing                                Locality  \\\n",
       "0    3       2.0  Semi-Furnished                        Rohini Sector 25   \n",
       "1    2       2.0  Semi-Furnished  J R Designers Floors, Rohini Sector 24   \n",
       "2    2       2.0       Furnished                                   Other   \n",
       "3    2       2.0  Semi-Furnished                        Rohini Sector 24   \n",
       "4    2       2.0  Semi-Furnished                        Rohini Sector 24   \n",
       "\n",
       "   Total_sqft  Price (in Lakhs)  price_per_sqft  \\\n",
       "0      6500.0              65.0     1000.000000   \n",
       "1      6667.0              50.0      749.962502   \n",
       "2      6667.0             155.0     2324.883756   \n",
       "3      6667.0              42.0      629.968502   \n",
       "4      6667.0              62.0      929.953502   \n",
       "\n",
       "   Abhimanyu Apartments, Vasundhara Enclave  Abul Fazal Enclave Part 1, Okhla  \\\n",
       "0                                     False                             False   \n",
       "1                                     False                             False   \n",
       "2                                     False                             False   \n",
       "3                                     False                             False   \n",
       "4                                     False                             False   \n",
       "\n",
       "   Abul Fazal Enclave Part-II, Okhla  ...  Uttam Nagar West  Vasant Kunj  \\\n",
       "0                              False  ...             False        False   \n",
       "1                              False  ...             False        False   \n",
       "2                              False  ...             False        False   \n",
       "3                              False  ...             False        False   \n",
       "4                              False  ...             False        False   \n",
       "\n",
       "   Vasant Kunj Sector C  Vasant Vihar Builder Floor, Vasant Vihar  \\\n",
       "0                 False                                     False   \n",
       "1                 False                                     False   \n",
       "2                 False                                     False   \n",
       "3                 False                                     False   \n",
       "4                 False                                     False   \n",
       "\n",
       "   Vasundhara Enclave  Vikram Vihar, Lajpat Nagar  Vinoba Puri, Lajpat Nagar  \\\n",
       "0               False                       False                      False   \n",
       "1               False                       False                      False   \n",
       "2               False                       False                      False   \n",
       "3               False                       False                      False   \n",
       "4               False                       False                      False   \n",
       "\n",
       "   Virat Residency, Dwarka Mor  Yamuna Apartment, Alaknanda  \\\n",
       "0                        False                        False   \n",
       "1                        False                        False   \n",
       "2                        False                        False   \n",
       "3                        False                        False   \n",
       "4                        False                        False   \n",
       "\n",
       "   Yamuna Vihar, Shahdara  \n",
       "0                   False  \n",
       "1                   False  \n",
       "2                   False  \n",
       "3                   False  \n",
       "4                   False  \n",
       "\n",
       "[5 rows x 155 columns]"
      ]
     },
     "execution_count": 31,
     "metadata": {},
     "output_type": "execute_result"
    }
   ],
   "source": [
    "# Concatinating it with main dataframe\n",
    "df5=pd.concat([df5,dummies.drop('Other',axis='columns')],axis='columns')\n",
    "df5.head()"
   ]
  },
  {
   "cell_type": "code",
   "execution_count": 32,
   "id": "cdd1a014-fc49-421a-a122-1305c82cef49",
   "metadata": {},
   "outputs": [
    {
     "data": {
      "text/html": [
       "<div>\n",
       "<style scoped>\n",
       "    .dataframe tbody tr th:only-of-type {\n",
       "        vertical-align: middle;\n",
       "    }\n",
       "\n",
       "    .dataframe tbody tr th {\n",
       "        vertical-align: top;\n",
       "    }\n",
       "\n",
       "    .dataframe thead th {\n",
       "        text-align: right;\n",
       "    }\n",
       "</style>\n",
       "<table border=\"1\" class=\"dataframe\">\n",
       "  <thead>\n",
       "    <tr style=\"text-align: right;\">\n",
       "      <th></th>\n",
       "      <th>BHK</th>\n",
       "      <th>Bathroom</th>\n",
       "      <th>Total_sqft</th>\n",
       "      <th>Price (in Lakhs)</th>\n",
       "      <th>Abhimanyu Apartments, Vasundhara Enclave</th>\n",
       "      <th>Abul Fazal Enclave Part 1, Okhla</th>\n",
       "      <th>Abul Fazal Enclave Part-II, Okhla</th>\n",
       "      <th>Adarsh Homes, Dwarka Mor</th>\n",
       "      <th>Alaknanda</th>\n",
       "      <th>Amar Colony, Lajpat Nagar</th>\n",
       "      <th>...</th>\n",
       "      <th>Uttam Nagar West</th>\n",
       "      <th>Vasant Kunj</th>\n",
       "      <th>Vasant Kunj Sector C</th>\n",
       "      <th>Vasant Vihar Builder Floor, Vasant Vihar</th>\n",
       "      <th>Vasundhara Enclave</th>\n",
       "      <th>Vikram Vihar, Lajpat Nagar</th>\n",
       "      <th>Vinoba Puri, Lajpat Nagar</th>\n",
       "      <th>Virat Residency, Dwarka Mor</th>\n",
       "      <th>Yamuna Apartment, Alaknanda</th>\n",
       "      <th>Yamuna Vihar, Shahdara</th>\n",
       "    </tr>\n",
       "  </thead>\n",
       "  <tbody>\n",
       "    <tr>\n",
       "      <th>0</th>\n",
       "      <td>3</td>\n",
       "      <td>2.0</td>\n",
       "      <td>6500.0</td>\n",
       "      <td>65.0</td>\n",
       "      <td>False</td>\n",
       "      <td>False</td>\n",
       "      <td>False</td>\n",
       "      <td>False</td>\n",
       "      <td>False</td>\n",
       "      <td>False</td>\n",
       "      <td>...</td>\n",
       "      <td>False</td>\n",
       "      <td>False</td>\n",
       "      <td>False</td>\n",
       "      <td>False</td>\n",
       "      <td>False</td>\n",
       "      <td>False</td>\n",
       "      <td>False</td>\n",
       "      <td>False</td>\n",
       "      <td>False</td>\n",
       "      <td>False</td>\n",
       "    </tr>\n",
       "    <tr>\n",
       "      <th>1</th>\n",
       "      <td>2</td>\n",
       "      <td>2.0</td>\n",
       "      <td>6667.0</td>\n",
       "      <td>50.0</td>\n",
       "      <td>False</td>\n",
       "      <td>False</td>\n",
       "      <td>False</td>\n",
       "      <td>False</td>\n",
       "      <td>False</td>\n",
       "      <td>False</td>\n",
       "      <td>...</td>\n",
       "      <td>False</td>\n",
       "      <td>False</td>\n",
       "      <td>False</td>\n",
       "      <td>False</td>\n",
       "      <td>False</td>\n",
       "      <td>False</td>\n",
       "      <td>False</td>\n",
       "      <td>False</td>\n",
       "      <td>False</td>\n",
       "      <td>False</td>\n",
       "    </tr>\n",
       "    <tr>\n",
       "      <th>2</th>\n",
       "      <td>2</td>\n",
       "      <td>2.0</td>\n",
       "      <td>6667.0</td>\n",
       "      <td>155.0</td>\n",
       "      <td>False</td>\n",
       "      <td>False</td>\n",
       "      <td>False</td>\n",
       "      <td>False</td>\n",
       "      <td>False</td>\n",
       "      <td>False</td>\n",
       "      <td>...</td>\n",
       "      <td>False</td>\n",
       "      <td>False</td>\n",
       "      <td>False</td>\n",
       "      <td>False</td>\n",
       "      <td>False</td>\n",
       "      <td>False</td>\n",
       "      <td>False</td>\n",
       "      <td>False</td>\n",
       "      <td>False</td>\n",
       "      <td>False</td>\n",
       "    </tr>\n",
       "    <tr>\n",
       "      <th>3</th>\n",
       "      <td>2</td>\n",
       "      <td>2.0</td>\n",
       "      <td>6667.0</td>\n",
       "      <td>42.0</td>\n",
       "      <td>False</td>\n",
       "      <td>False</td>\n",
       "      <td>False</td>\n",
       "      <td>False</td>\n",
       "      <td>False</td>\n",
       "      <td>False</td>\n",
       "      <td>...</td>\n",
       "      <td>False</td>\n",
       "      <td>False</td>\n",
       "      <td>False</td>\n",
       "      <td>False</td>\n",
       "      <td>False</td>\n",
       "      <td>False</td>\n",
       "      <td>False</td>\n",
       "      <td>False</td>\n",
       "      <td>False</td>\n",
       "      <td>False</td>\n",
       "    </tr>\n",
       "    <tr>\n",
       "      <th>4</th>\n",
       "      <td>2</td>\n",
       "      <td>2.0</td>\n",
       "      <td>6667.0</td>\n",
       "      <td>62.0</td>\n",
       "      <td>False</td>\n",
       "      <td>False</td>\n",
       "      <td>False</td>\n",
       "      <td>False</td>\n",
       "      <td>False</td>\n",
       "      <td>False</td>\n",
       "      <td>...</td>\n",
       "      <td>False</td>\n",
       "      <td>False</td>\n",
       "      <td>False</td>\n",
       "      <td>False</td>\n",
       "      <td>False</td>\n",
       "      <td>False</td>\n",
       "      <td>False</td>\n",
       "      <td>False</td>\n",
       "      <td>False</td>\n",
       "      <td>False</td>\n",
       "    </tr>\n",
       "  </tbody>\n",
       "</table>\n",
       "<p>5 rows × 152 columns</p>\n",
       "</div>"
      ],
      "text/plain": [
       "   BHK  Bathroom  Total_sqft  Price (in Lakhs)  \\\n",
       "0    3       2.0      6500.0              65.0   \n",
       "1    2       2.0      6667.0              50.0   \n",
       "2    2       2.0      6667.0             155.0   \n",
       "3    2       2.0      6667.0              42.0   \n",
       "4    2       2.0      6667.0              62.0   \n",
       "\n",
       "   Abhimanyu Apartments, Vasundhara Enclave  Abul Fazal Enclave Part 1, Okhla  \\\n",
       "0                                     False                             False   \n",
       "1                                     False                             False   \n",
       "2                                     False                             False   \n",
       "3                                     False                             False   \n",
       "4                                     False                             False   \n",
       "\n",
       "   Abul Fazal Enclave Part-II, Okhla  Adarsh Homes, Dwarka Mor  Alaknanda  \\\n",
       "0                              False                     False      False   \n",
       "1                              False                     False      False   \n",
       "2                              False                     False      False   \n",
       "3                              False                     False      False   \n",
       "4                              False                     False      False   \n",
       "\n",
       "   Amar Colony, Lajpat Nagar  ...  Uttam Nagar West  Vasant Kunj  \\\n",
       "0                      False  ...             False        False   \n",
       "1                      False  ...             False        False   \n",
       "2                      False  ...             False        False   \n",
       "3                      False  ...             False        False   \n",
       "4                      False  ...             False        False   \n",
       "\n",
       "   Vasant Kunj Sector C  Vasant Vihar Builder Floor, Vasant Vihar  \\\n",
       "0                 False                                     False   \n",
       "1                 False                                     False   \n",
       "2                 False                                     False   \n",
       "3                 False                                     False   \n",
       "4                 False                                     False   \n",
       "\n",
       "   Vasundhara Enclave  Vikram Vihar, Lajpat Nagar  Vinoba Puri, Lajpat Nagar  \\\n",
       "0               False                       False                      False   \n",
       "1               False                       False                      False   \n",
       "2               False                       False                      False   \n",
       "3               False                       False                      False   \n",
       "4               False                       False                      False   \n",
       "\n",
       "   Virat Residency, Dwarka Mor  Yamuna Apartment, Alaknanda  \\\n",
       "0                        False                        False   \n",
       "1                        False                        False   \n",
       "2                        False                        False   \n",
       "3                        False                        False   \n",
       "4                        False                        False   \n",
       "\n",
       "   Yamuna Vihar, Shahdara  \n",
       "0                   False  \n",
       "1                   False  \n",
       "2                   False  \n",
       "3                   False  \n",
       "4                   False  \n",
       "\n",
       "[5 rows x 152 columns]"
      ]
     },
     "execution_count": 32,
     "metadata": {},
     "output_type": "execute_result"
    }
   ],
   "source": [
    "df6=df5.drop(['Locality','Furnishing','price_per_sqft'],axis='columns')\n",
    "df6.head()"
   ]
  },
  {
   "cell_type": "code",
   "execution_count": 33,
   "id": "cce1987b-99db-44f0-bd2b-82d02d8c5307",
   "metadata": {},
   "outputs": [
    {
     "data": {
      "text/plain": [
       "(834, 152)"
      ]
     },
     "execution_count": 33,
     "metadata": {},
     "output_type": "execute_result"
    }
   ],
   "source": [
    "df6.shape"
   ]
  },
  {
   "cell_type": "code",
   "execution_count": 34,
   "id": "0228f8b5-355e-42a4-912c-e753fa6dd073",
   "metadata": {},
   "outputs": [
    {
     "data": {
      "text/html": [
       "<div>\n",
       "<style scoped>\n",
       "    .dataframe tbody tr th:only-of-type {\n",
       "        vertical-align: middle;\n",
       "    }\n",
       "\n",
       "    .dataframe tbody tr th {\n",
       "        vertical-align: top;\n",
       "    }\n",
       "\n",
       "    .dataframe thead th {\n",
       "        text-align: right;\n",
       "    }\n",
       "</style>\n",
       "<table border=\"1\" class=\"dataframe\">\n",
       "  <thead>\n",
       "    <tr style=\"text-align: right;\">\n",
       "      <th></th>\n",
       "      <th>BHK</th>\n",
       "      <th>Bathroom</th>\n",
       "      <th>Total_sqft</th>\n",
       "      <th>Abhimanyu Apartments, Vasundhara Enclave</th>\n",
       "      <th>Abul Fazal Enclave Part 1, Okhla</th>\n",
       "      <th>Abul Fazal Enclave Part-II, Okhla</th>\n",
       "      <th>Adarsh Homes, Dwarka Mor</th>\n",
       "      <th>Alaknanda</th>\n",
       "      <th>Amar Colony, Lajpat Nagar</th>\n",
       "      <th>Andheria Mor, Mehrauli</th>\n",
       "      <th>...</th>\n",
       "      <th>Uttam Nagar West</th>\n",
       "      <th>Vasant Kunj</th>\n",
       "      <th>Vasant Kunj Sector C</th>\n",
       "      <th>Vasant Vihar Builder Floor, Vasant Vihar</th>\n",
       "      <th>Vasundhara Enclave</th>\n",
       "      <th>Vikram Vihar, Lajpat Nagar</th>\n",
       "      <th>Vinoba Puri, Lajpat Nagar</th>\n",
       "      <th>Virat Residency, Dwarka Mor</th>\n",
       "      <th>Yamuna Apartment, Alaknanda</th>\n",
       "      <th>Yamuna Vihar, Shahdara</th>\n",
       "    </tr>\n",
       "  </thead>\n",
       "  <tbody>\n",
       "    <tr>\n",
       "      <th>0</th>\n",
       "      <td>3</td>\n",
       "      <td>2.0</td>\n",
       "      <td>6500.0</td>\n",
       "      <td>False</td>\n",
       "      <td>False</td>\n",
       "      <td>False</td>\n",
       "      <td>False</td>\n",
       "      <td>False</td>\n",
       "      <td>False</td>\n",
       "      <td>False</td>\n",
       "      <td>...</td>\n",
       "      <td>False</td>\n",
       "      <td>False</td>\n",
       "      <td>False</td>\n",
       "      <td>False</td>\n",
       "      <td>False</td>\n",
       "      <td>False</td>\n",
       "      <td>False</td>\n",
       "      <td>False</td>\n",
       "      <td>False</td>\n",
       "      <td>False</td>\n",
       "    </tr>\n",
       "    <tr>\n",
       "      <th>1</th>\n",
       "      <td>2</td>\n",
       "      <td>2.0</td>\n",
       "      <td>6667.0</td>\n",
       "      <td>False</td>\n",
       "      <td>False</td>\n",
       "      <td>False</td>\n",
       "      <td>False</td>\n",
       "      <td>False</td>\n",
       "      <td>False</td>\n",
       "      <td>False</td>\n",
       "      <td>...</td>\n",
       "      <td>False</td>\n",
       "      <td>False</td>\n",
       "      <td>False</td>\n",
       "      <td>False</td>\n",
       "      <td>False</td>\n",
       "      <td>False</td>\n",
       "      <td>False</td>\n",
       "      <td>False</td>\n",
       "      <td>False</td>\n",
       "      <td>False</td>\n",
       "    </tr>\n",
       "    <tr>\n",
       "      <th>2</th>\n",
       "      <td>2</td>\n",
       "      <td>2.0</td>\n",
       "      <td>6667.0</td>\n",
       "      <td>False</td>\n",
       "      <td>False</td>\n",
       "      <td>False</td>\n",
       "      <td>False</td>\n",
       "      <td>False</td>\n",
       "      <td>False</td>\n",
       "      <td>False</td>\n",
       "      <td>...</td>\n",
       "      <td>False</td>\n",
       "      <td>False</td>\n",
       "      <td>False</td>\n",
       "      <td>False</td>\n",
       "      <td>False</td>\n",
       "      <td>False</td>\n",
       "      <td>False</td>\n",
       "      <td>False</td>\n",
       "      <td>False</td>\n",
       "      <td>False</td>\n",
       "    </tr>\n",
       "    <tr>\n",
       "      <th>3</th>\n",
       "      <td>2</td>\n",
       "      <td>2.0</td>\n",
       "      <td>6667.0</td>\n",
       "      <td>False</td>\n",
       "      <td>False</td>\n",
       "      <td>False</td>\n",
       "      <td>False</td>\n",
       "      <td>False</td>\n",
       "      <td>False</td>\n",
       "      <td>False</td>\n",
       "      <td>...</td>\n",
       "      <td>False</td>\n",
       "      <td>False</td>\n",
       "      <td>False</td>\n",
       "      <td>False</td>\n",
       "      <td>False</td>\n",
       "      <td>False</td>\n",
       "      <td>False</td>\n",
       "      <td>False</td>\n",
       "      <td>False</td>\n",
       "      <td>False</td>\n",
       "    </tr>\n",
       "    <tr>\n",
       "      <th>4</th>\n",
       "      <td>2</td>\n",
       "      <td>2.0</td>\n",
       "      <td>6667.0</td>\n",
       "      <td>False</td>\n",
       "      <td>False</td>\n",
       "      <td>False</td>\n",
       "      <td>False</td>\n",
       "      <td>False</td>\n",
       "      <td>False</td>\n",
       "      <td>False</td>\n",
       "      <td>...</td>\n",
       "      <td>False</td>\n",
       "      <td>False</td>\n",
       "      <td>False</td>\n",
       "      <td>False</td>\n",
       "      <td>False</td>\n",
       "      <td>False</td>\n",
       "      <td>False</td>\n",
       "      <td>False</td>\n",
       "      <td>False</td>\n",
       "      <td>False</td>\n",
       "    </tr>\n",
       "  </tbody>\n",
       "</table>\n",
       "<p>5 rows × 151 columns</p>\n",
       "</div>"
      ],
      "text/plain": [
       "   BHK  Bathroom  Total_sqft  Abhimanyu Apartments, Vasundhara Enclave  \\\n",
       "0    3       2.0      6500.0                                     False   \n",
       "1    2       2.0      6667.0                                     False   \n",
       "2    2       2.0      6667.0                                     False   \n",
       "3    2       2.0      6667.0                                     False   \n",
       "4    2       2.0      6667.0                                     False   \n",
       "\n",
       "   Abul Fazal Enclave Part 1, Okhla  Abul Fazal Enclave Part-II, Okhla  \\\n",
       "0                             False                              False   \n",
       "1                             False                              False   \n",
       "2                             False                              False   \n",
       "3                             False                              False   \n",
       "4                             False                              False   \n",
       "\n",
       "   Adarsh Homes, Dwarka Mor  Alaknanda  Amar Colony, Lajpat Nagar  \\\n",
       "0                     False      False                      False   \n",
       "1                     False      False                      False   \n",
       "2                     False      False                      False   \n",
       "3                     False      False                      False   \n",
       "4                     False      False                      False   \n",
       "\n",
       "   Andheria Mor, Mehrauli  ...  Uttam Nagar West  Vasant Kunj  \\\n",
       "0                   False  ...             False        False   \n",
       "1                   False  ...             False        False   \n",
       "2                   False  ...             False        False   \n",
       "3                   False  ...             False        False   \n",
       "4                   False  ...             False        False   \n",
       "\n",
       "   Vasant Kunj Sector C  Vasant Vihar Builder Floor, Vasant Vihar  \\\n",
       "0                 False                                     False   \n",
       "1                 False                                     False   \n",
       "2                 False                                     False   \n",
       "3                 False                                     False   \n",
       "4                 False                                     False   \n",
       "\n",
       "   Vasundhara Enclave  Vikram Vihar, Lajpat Nagar  Vinoba Puri, Lajpat Nagar  \\\n",
       "0               False                       False                      False   \n",
       "1               False                       False                      False   \n",
       "2               False                       False                      False   \n",
       "3               False                       False                      False   \n",
       "4               False                       False                      False   \n",
       "\n",
       "   Virat Residency, Dwarka Mor  Yamuna Apartment, Alaknanda  \\\n",
       "0                        False                        False   \n",
       "1                        False                        False   \n",
       "2                        False                        False   \n",
       "3                        False                        False   \n",
       "4                        False                        False   \n",
       "\n",
       "   Yamuna Vihar, Shahdara  \n",
       "0                   False  \n",
       "1                   False  \n",
       "2                   False  \n",
       "3                   False  \n",
       "4                   False  \n",
       "\n",
       "[5 rows x 151 columns]"
      ]
     },
     "execution_count": 34,
     "metadata": {},
     "output_type": "execute_result"
    }
   ],
   "source": [
    "# Assigning values to X and Y\n",
    "X= df6.drop('Price (in Lakhs)',axis='columns')\n",
    "X.head()"
   ]
  },
  {
   "cell_type": "code",
   "execution_count": 35,
   "id": "702f3c31-9222-419a-adf5-16b2b674e8b1",
   "metadata": {},
   "outputs": [
    {
     "data": {
      "text/plain": [
       "0     65.0\n",
       "1     50.0\n",
       "2    155.0\n",
       "3     42.0\n",
       "4     62.0\n",
       "Name: Price (in Lakhs), dtype: float64"
      ]
     },
     "execution_count": 35,
     "metadata": {},
     "output_type": "execute_result"
    }
   ],
   "source": [
    "Y = df6['Price (in Lakhs)']\n",
    "Y.head()"
   ]
  },
  {
   "cell_type": "markdown",
   "id": "760094b2-0eba-4069-ba97-872447eca87c",
   "metadata": {},
   "source": [
    "Splitting data into Training and Testing Data"
   ]
  },
  {
   "cell_type": "code",
   "execution_count": 36,
   "id": "5de8af8f-2b98-43f5-a010-f4f182b84ff5",
   "metadata": {},
   "outputs": [
    {
     "data": {
      "text/plain": [
       "BHK                                         0\n",
       "Bathroom                                    0\n",
       "Total_sqft                                  0\n",
       "Price (in Lakhs)                            0\n",
       "Abhimanyu Apartments, Vasundhara Enclave    0\n",
       "                                           ..\n",
       "Vikram Vihar, Lajpat Nagar                  0\n",
       "Vinoba Puri, Lajpat Nagar                   0\n",
       "Virat Residency, Dwarka Mor                 0\n",
       "Yamuna Apartment, Alaknanda                 0\n",
       "Yamuna Vihar, Shahdara                      0\n",
       "Length: 152, dtype: int64"
      ]
     },
     "execution_count": 36,
     "metadata": {},
     "output_type": "execute_result"
    }
   ],
   "source": [
    "df6.isnull().sum()"
   ]
  },
  {
   "cell_type": "code",
   "execution_count": 37,
   "id": "24328f8d-955b-411c-9b3e-1f35b5d765a9",
   "metadata": {},
   "outputs": [],
   "source": [
    "from sklearn.model_selection import train_test_split\n",
    "X_train, X_test, y_train, y_test = train_test_split(X, Y, test_size=0.2)"
   ]
  },
  {
   "cell_type": "markdown",
   "id": "3c9e338d-4e09-45ab-ba49-d734cebe9eb1",
   "metadata": {},
   "source": [
    "Model Training"
   ]
  },
  {
   "cell_type": "code",
   "execution_count": 38,
   "id": "4850ef4c-dbba-4e66-9b20-c98af81f100f",
   "metadata": {},
   "outputs": [
    {
     "data": {
      "text/plain": [
       "0.7838614356041069"
      ]
     },
     "execution_count": 38,
     "metadata": {},
     "output_type": "execute_result"
    }
   ],
   "source": [
    "reg=linear_model.LinearRegression()\n",
    "reg.fit(X_train,y_train)\n",
    "reg.score(X_test,y_test)"
   ]
  },
  {
   "cell_type": "code",
   "execution_count": 39,
   "id": "66a6a11c-cb87-4d8e-803a-2be9950f22d6",
   "metadata": {},
   "outputs": [
    {
     "name": "stdout",
     "output_type": "stream",
     "text": [
      "(834, 151) (667, 151) (167, 151)\n",
      "(834,) (667,) (167,)\n"
     ]
    }
   ],
   "source": [
    "print(X.shape,X_train.shape,X_test.shape)\n",
    "print(Y.shape,y_train.shape,y_test.shape)"
   ]
  },
  {
   "cell_type": "markdown",
   "id": "2bffdaf4-69f1-434c-aa1e-defe10cf179a",
   "metadata": {},
   "source": [
    "Evaluation"
   ]
  },
  {
   "cell_type": "code",
   "execution_count": 40,
   "id": "2d4dfdce-6a2a-46ea-826f-119a8eeaf91d",
   "metadata": {},
   "outputs": [
    {
     "name": "stdout",
     "output_type": "stream",
     "text": [
      "[ 1.09170673e+02  2.56966379e+02  2.22978568e+01  2.35459819e+01\n",
      "  1.06011151e+02  4.22003701e+01  9.62412772e+01  2.11000144e+02\n",
      "  2.91206512e+01  6.28182390e+01  3.04997125e+01  1.05250461e+02\n",
      "  2.40000000e+01  3.99995458e+02  3.51306315e+02  3.70873622e+01\n",
      " -8.40046378e-01  1.46530102e+02  8.57247555e+01  5.06342799e+01\n",
      "  1.67720485e+01 -1.68430151e+00  4.62000000e+01  1.72955658e+02\n",
      "  4.52120576e+01  2.91499856e+02  3.09172228e+02  4.37230319e+01\n",
      "  3.85567918e+02  3.69149118e+02  1.32791222e+02  9.34550100e+01\n",
      "  3.90108635e+01 -2.67004035e+01  8.98001866e+01  4.54221399e+02\n",
      "  9.37518046e+01  8.98121545e+01  2.33009615e+01  1.65209718e+02\n",
      "  7.29390700e+01  3.55778601e+02  1.18277644e+02  1.06011151e+02\n",
      "  1.78204707e+02  2.46930512e+02  3.00000000e+01  7.50000000e+01\n",
      "  1.32144049e+02  4.43879054e+01  1.44998563e+01  7.29090854e+01\n",
      "  5.89000000e+01  4.50254280e-01  2.97397009e+02  4.73668960e+01\n",
      "  2.12372775e+02  1.42309463e+02  1.38136226e+02  2.10904512e+01\n",
      "  2.77129693e+02  4.13736164e+02  1.18704274e+02  1.62183832e+02\n",
      "  1.31329251e+02  2.03634212e+02  2.07374516e+02  1.58066554e+02\n",
      "  3.83975517e+02  3.30688629e+02  4.87159296e+01  1.54958770e+01\n",
      "  1.65000000e+02  3.59141642e+02  1.99311371e+02  1.68874926e+02\n",
      "  1.63906062e+01  5.31911341e+01  5.89000000e+01  2.27405088e+02\n",
      "  2.85561457e+02  2.28174732e+01  1.99039433e+02  8.08440802e+01\n",
      "  3.90000000e+01  4.62000000e+01  6.93607268e+01  2.78433528e+02\n",
      "  1.68874926e+02  8.49348187e+01  3.66812657e+01  2.10129405e+02\n",
      "  9.76535172e+01  7.16949026e+01  2.79067251e+00  2.35060329e+01\n",
      "  2.49974942e+02  3.08762347e+01  1.42481954e+01  4.23549027e+02\n",
      "  7.50450535e+01  1.16493154e+02  4.00042615e+01 -1.32629061e+01\n",
      "  3.11032384e+02  8.15001437e+01  5.70000000e+02  8.98177607e+01\n",
      "  2.55945441e+02  2.63827088e+02  2.34333238e+02  2.60000000e+01\n",
      "  6.28182390e+01  3.00000000e+01  4.46671536e+02  9.02888790e+01\n",
      "  2.22431929e+02  4.84823730e+01  3.00000000e+01  9.51013996e+01\n",
      "  9.04433484e+01  5.35561732e+01  2.78323736e+02  1.72955658e+02\n",
      "  1.99831072e+02  1.59440909e+02  4.75449745e+02  1.43999856e+02\n",
      "  6.57909348e+01  4.19978767e+02  6.17525543e+01  3.47416239e+02\n",
      "  1.21027579e+02  1.14508081e+01  6.00181098e+01  9.13889184e+01\n",
      "  3.75391903e+02  3.68331586e+02  8.04152945e+01  5.13000000e+01\n",
      "  2.85561457e+02  2.25402699e+02 -4.61759256e+01  1.57841757e+02\n",
      "  1.46270908e+02  2.20225941e+01  5.85341064e+00  2.10000000e+02\n",
      "  3.27644659e+00  2.50715679e+01  3.02723540e+02  4.89518219e+01\n",
      "  6.94026230e+01  9.76535172e+01  2.21666667e+02  1.20845073e+02\n",
      "  5.44028119e+01  1.71614871e+02  7.77681067e+01  2.88050628e+00\n",
      "  1.27327829e+02 -5.99711189e+01  1.72662244e+02  1.90326179e+02\n",
      "  1.38136226e+02  3.70000000e+01  1.69971220e+02  4.68478422e+01\n",
      "  2.21666667e+02  3.55778601e+02  2.87212682e+02  2.39244414e+02\n",
      "  2.33991672e+02 -2.79894239e+01  1.24176811e+02  1.07321361e+02\n",
      " -1.12522182e+00  2.48666667e+02  1.72000000e+02  7.16949026e+01\n",
      "  1.44927723e+02  4.20000000e+01  5.29177885e+01 -2.79480275e+01\n",
      "  9.66137656e+01  2.40000000e+01  3.01333525e+02  2.94000000e+01\n",
      "  2.92141355e+02  3.32459503e+02  8.92981443e+01  3.32459503e+02\n",
      "  1.90980889e+02  1.10435374e+02 -1.63660076e+01  7.80000000e+01\n",
      " -2.88709648e+01  1.86328512e+02  2.46809877e+01  1.19078069e+02\n",
      "  7.80000000e+01  2.05136513e+02  1.79345313e+01  3.08776356e+02\n",
      "  1.87799558e+02  4.28204453e+01  1.86008328e+02  7.25000000e+01\n",
      "  6.96666667e+01 -1.93081901e+01  2.64547225e+01  2.17018517e+01\n",
      "  1.66541350e+02  4.43879054e+01  5.50000000e+02  3.89931251e+02\n",
      "  1.00619494e+02  2.74374804e+02  5.35561732e+01  1.78571050e+02\n",
      "  3.81498680e+02  1.59440909e+02  4.44412617e+01  1.06011151e+02\n",
      "  1.32258731e+02  1.59130917e+02  1.01187774e+02  5.07968585e+01\n",
      "  4.70362198e+01  4.96765945e+01  2.35060329e+01  1.24219780e+02\n",
      "  3.86529179e+01  1.66457012e+02  5.59265856e+01  8.04152945e+01\n",
      "  2.56901446e+02  2.64547225e+01  1.93602751e+01  1.75000000e+02\n",
      "  3.16716892e+02  1.58427267e+02  3.15168509e+02  3.88967551e+02\n",
      "  1.16567131e+02  1.01405349e+02  2.33967616e+02 -3.37311003e+01\n",
      "  8.95464671e+01  1.42309463e+02  3.80009085e+02  1.90000000e+02\n",
      "  1.65622524e+02  7.55542492e+01  2.33009615e+01 -2.72266178e+01\n",
      "  2.32595792e+02  3.15150336e+02  3.16975229e+02  2.48666667e+02\n",
      "  4.26577159e+02  9.06365631e+01  9.90798265e+01  8.22937563e+01\n",
      "  7.84307973e+01  5.10000000e+02  3.16975229e+02  1.53022268e+02\n",
      "  8.49348187e+01  1.42309463e+02  1.60242189e+02  4.60808348e+02\n",
      "  1.42309463e+02  7.70230683e+01  8.92981443e+01  2.30396721e+02\n",
      "  2.03642202e+02  1.14667701e+02  1.95702497e+02  2.65459216e+02\n",
      "  3.53308393e+02  2.30396721e+02  2.00000000e+01  3.58500144e+02\n",
      "  2.00000000e+02  1.38136226e+02  1.09170673e+02  2.42845133e+00\n",
      "  2.34333238e+02  2.50715679e+01  1.16493154e+02  4.57186128e+01\n",
      "  6.74505417e+01  2.65606175e+00  2.10000000e+02  2.87212682e+02\n",
      "  3.35492904e+01  3.70262454e+02  3.75000000e+02  5.99260815e+01\n",
      "  1.07307145e+02  1.17823585e+02  3.59576872e+02  3.76158923e+02\n",
      "  8.23727946e+01  2.87212682e+02  2.17067212e+02  1.06052547e+02\n",
      "  2.68362629e+02 -1.80484656e+01 -3.01631432e+01  1.30250144e+02\n",
      "  8.04152945e+01  1.05862547e+01  3.99995458e+02  9.60179693e+01\n",
      "  1.50000000e+01  3.00000000e+02  5.44028119e+01  1.20416280e+02\n",
      "  1.42309463e+02  1.15000000e+02 -1.28041687e+01 -4.18204847e+00\n",
      "  4.12481766e+02  1.06052547e+02  1.48325779e+02  2.94598448e+01\n",
      "  3.97736697e+01  2.93081487e+02  3.20795390e+01  8.42805523e+01\n",
      "  1.40608194e+02  1.82880499e+02  5.50000000e+02  3.30000000e+01\n",
      "  8.56093938e+01  1.00000000e+01  6.96666667e+01  9.30000000e+01\n",
      "  5.10155242e+01  5.96574346e+01  1.55279695e+02  2.23800762e+02\n",
      "  1.19918076e+02  2.39955945e+02  4.68164088e+02  4.50000000e+01\n",
      "  5.40272915e+01  3.32459503e+02  1.63427761e+01  2.39955945e+02\n",
      "  1.32144049e+02  2.02574452e+02  1.99144336e+02  3.02723540e+02\n",
      "  3.90522600e+01  1.13306687e+02  6.17539068e+00  3.70066888e+02\n",
      "  1.42309463e+02  8.08440802e+01  6.00000000e+01  2.35060329e+01\n",
      "  3.54215411e+01  1.87847474e+02  4.50000000e+02  1.13880084e+02\n",
      " -2.48299020e+01  1.43129118e+02  1.06850820e+01  5.13000000e+01\n",
      "  2.78281124e+02  8.15558190e+01  1.38136226e+02  2.68852780e+02\n",
      "  5.89000000e+01  2.46956920e+02  2.60000000e+02  4.90294210e+01\n",
      "  4.37000000e+01  1.67977732e+02  2.02574452e+02  2.27405088e+02\n",
      "  1.65622524e+02  1.42309463e+02  3.09557804e+02  1.16493154e+02\n",
      "  1.40000000e+02  1.64500287e+02  6.32498563e+01  3.36468988e+02\n",
      "  1.13615692e+02  2.28174732e+01  1.90000000e+01  4.02611579e+02\n",
      "  2.02048555e+02  1.50000000e+02  2.05136513e+02  1.56298432e+02\n",
      "  1.99093734e+02  2.16733250e+02  5.70000000e+02  1.63018257e+02\n",
      "  1.43999856e+02  4.01168215e+02  5.01053803e+01  9.01063727e+01\n",
      "  2.48666667e+02  3.36192063e+01  5.64507096e+01  1.96334205e+02\n",
      "  7.70230683e+01  1.32351945e+02  1.16000000e+02  4.94928662e+01\n",
      "  1.95702497e+02 -5.61134456e+00  2.52859251e+02  1.31445132e+02\n",
      "  1.90000000e+01  1.42309463e+02  2.63636425e+02  3.60081775e+02\n",
      "  2.78281124e+02  1.09329072e+02  7.29090854e+01  1.18704274e+02\n",
      "  5.40113000e+01  8.92981443e+01  1.46270908e+02  1.90000000e+02\n",
      "  4.37000000e+01  4.25000000e+02  1.71497648e+01  2.69572956e+02\n",
      "  9.15000000e+01  1.46270908e+02  3.16716892e+02  6.97495635e+01\n",
      "  8.38402538e+01  1.13032456e+02  4.68478422e+01  3.65000000e+02\n",
      "  1.85000000e+02  3.14498392e+02  2.47876145e+02  1.52934688e+01\n",
      "  1.38136226e+02  2.85561457e+02  5.60000000e+02 -1.63660076e+01\n",
      "  4.95514211e+01  3.70000000e+01  4.87444516e+01 -4.18204847e+00\n",
      "  1.86018395e+02  9.65891536e+01  1.60278075e+02  3.83623734e+02\n",
      "  9.15000000e+01  1.16493154e+02  1.42309463e+02  6.32498563e+01\n",
      "  1.61754234e+02  2.75506001e+02  6.98807937e+01  1.15488700e+02\n",
      "  2.83098554e+02  3.80000000e+01  4.91279619e+01  6.40078871e+01\n",
      "  1.38136226e+02  1.42999519e+02  3.81498680e+02  2.11000144e+02\n",
      "  3.45433815e+02  4.21703854e+01  2.17067212e+02  1.42734949e+02\n",
      "  1.06735051e+02  1.29360936e+02  8.65560917e+01  1.79621700e+02\n",
      "  3.83975517e+02  1.83513802e+02  1.38025456e+02  3.66624720e+02\n",
      "  3.02761347e+02  4.24369782e+01  6.94026230e+01  1.13597778e+02\n",
      "  1.00611082e+02  1.24291649e+02 -5.05663675e+00  5.70000000e+02\n",
      "  3.30000000e+01  2.39244414e+02  2.97397009e+02  2.85705676e+02\n",
      "  9.85906178e+01  3.46373350e+02  1.87799558e+02  2.11873524e+02\n",
      "  1.94328141e+02  3.30000000e+01  9.36818791e+01  1.29360936e+02\n",
      "  2.36092660e+02  7.63598253e+01  1.03938028e+02  1.51461612e+02\n",
      "  3.74177329e+02  2.15326067e+02  5.28629529e+01  1.56743158e+01\n",
      "  1.86018395e+02  4.74537387e+01  1.13032456e+02  9.06643994e+01\n",
      " -2.26123821e+01  3.13364207e+02  5.28629529e+01  1.82258444e+02\n",
      "  3.70000000e+01  2.50493729e+02  1.20416280e+02  2.50000000e+01\n",
      "  6.03852692e+00  2.21666667e+02  1.26372109e+02  8.91836239e+01\n",
      "  1.41873119e+02  2.64947541e+01  8.92981443e+01  1.54335898e+02\n",
      "  2.30950442e+02 -1.86081937e+01  2.71048819e+02 -2.83782607e+01\n",
      "  1.66809443e+01  1.57841757e+02  2.79373063e+02  2.28174732e+01\n",
      "  4.60739185e+01  1.44618784e+02  9.00120074e+01  1.50000000e+02\n",
      "  3.54215411e+01  9.06643994e+01  3.20567615e+02  2.85561457e+02\n",
      "  5.37373814e+01  1.52754741e+02  1.73199514e+02  5.40725478e+01\n",
      "  1.91143500e+02  1.99352232e+02  1.16493154e+02  7.14998563e+01\n",
      "  2.48812095e+02  8.04152945e+01  1.44281498e+02  2.71048819e+02\n",
      "  3.16716892e+02  8.05478719e+01  2.56187905e+02  2.23824339e+02\n",
      "  1.01346388e+02  1.92402575e+02  7.34236369e+01  1.37190552e+02\n",
      "  1.30815129e+01  1.83677169e+02  5.98978631e+01  1.38500144e+02\n",
      "  2.10129405e+02  9.97275734e+01 -1.41373345e+01  1.87037132e+02\n",
      "  1.92244485e+01  9.56334095e+01  1.48325779e+02  1.77439433e+02\n",
      "  4.36688237e+01 -1.73236929e+01  1.38126476e+02  8.43470821e+01\n",
      "  9.95410630e+01  1.12364686e+02  8.13729798e+01  9.97275734e+01\n",
      "  1.79621700e+02 -2.83782607e+01  2.12209512e+01  7.00000000e+01\n",
      "  1.29329318e+02  1.51280840e+02  1.44773037e+02  1.18704274e+02\n",
      "  5.35164376e+02  2.15326067e+02  4.37000000e+01  1.16567131e+02\n",
      "  1.51461612e+02 -2.79894239e+01  3.67118418e+01  1.24176811e+02\n",
      "  2.08575966e+01  5.75257286e+01 -5.03720914e+01  7.38605599e+01\n",
      "  1.31015534e+02  5.24405517e+01  1.20722912e+02  1.10435374e+02\n",
      "  1.72624974e+02  1.68874926e+02  6.96666667e+01 -1.99869583e+01\n",
      "  4.26968229e+01  4.54221399e+02  1.17554387e+02  1.37607976e+02\n",
      "  7.11359383e+01  6.89888734e+01  1.83513802e+02  4.40453728e+01\n",
      "  6.03275661e+01  7.97633504e+01  8.92981443e+01  2.50715679e+01\n",
      "  8.91292512e+01  1.12117002e+02 -1.08499876e+01  8.99606381e+00\n",
      "  7.25000000e+01  8.27235864e+01 -5.61134456e+00  1.66541350e+02\n",
      "  7.64573128e+01  2.52859251e+02  1.21871314e+02  2.28174732e+01\n",
      "  4.76920973e+01  9.02888790e+01  2.72810282e+02  7.05040444e+01\n",
      "  7.22239305e+01  1.15404397e+02  1.17465574e+02  4.28204453e+01\n",
      "  1.00393308e+02  1.90000000e+01  3.12524913e+02  1.00269475e+02\n",
      "  4.31930421e+01  2.65459216e+02  1.74000000e+02  2.10129405e+02\n",
      "  1.30250144e+02  1.33238651e+02  1.82258444e+02  1.42734949e+02\n",
      "  1.50000000e+02  6.47434013e+01  1.26756669e+02]\n"
     ]
    }
   ],
   "source": [
    "#Prediction on training data\n",
    "training_data_predict = reg.predict(X_train)\n",
    "print(training_data_predict)"
   ]
  },
  {
   "cell_type": "code",
   "execution_count": 41,
   "id": "f6925a10-7ce4-4c78-b50a-1530271b95e4",
   "metadata": {},
   "outputs": [
    {
     "name": "stdout",
     "output_type": "stream",
     "text": [
      "Mean Absolute Error :  30.108849351588248\n",
      "Relative MAE (using mean of target variable) in %: 21.0031495595551\n"
     ]
    }
   ],
   "source": [
    "from sklearn import metrics\n",
    "#Mean Absolute Error\n",
    "score_1= metrics.mean_absolute_error(y_train,training_data_predict)\n",
    "print(\"Mean Absolute Error : \",score_1)\n",
    "mean_y = np.mean(y_train)\n",
    "relative_mae_mean = (score_1 / mean_y)*100\n",
    "print(\"Relative MAE (using mean of target variable) in %:\", relative_mae_mean)\n"
   ]
  },
  {
   "cell_type": "markdown",
   "id": "55e94695-e138-4c4e-a11f-109d59486d56",
   "metadata": {},
   "source": [
    "Visualizing Actual and Predicted prices"
   ]
  },
  {
   "cell_type": "code",
   "execution_count": 42,
   "id": "948d0aff-c2ff-4191-9ccc-34e0510c922f",
   "metadata": {},
   "outputs": [
    {
     "data": {
      "image/png": "[encoded data removed]",
      "text/plain": [
       "<Figure size 1000x500 with 1 Axes>"
      ]
     },
     "metadata": {},
     "output_type": "display_data"
    }
   ],
   "source": [
    "plt.figure(figsize=(10, 5)) \n",
    "# Plotting Actual prices\n",
    "plt.scatter(y_train,training_data_predict)\n",
    "plt.xlabel(\"Actual Prices\")\n",
    "plt.ylabel(\"Predicted Prices\")\n",
    "plt.title(\"Actual Prices vs Predicted Prices\" )\n",
    "plt.show()"
   ]
  },
  {
   "cell_type": "markdown",
   "id": "a7d1de2c-450a-4414-9df9-b60ed43efc8e",
   "metadata": {},
   "source": [
    "So, This Closeness depicts that our model is predicting approximately values of House prices close to actual prices "
   ]
  },
  {
   "cell_type": "markdown",
   "id": "db3ee396-ca02-4201-af79-047f8a6de831",
   "metadata": {},
   "source": [
    "Now Let's Predict on Testing Data"
   ]
  },
  {
   "cell_type": "code",
   "execution_count": 43,
   "id": "a55ea06d-ee3d-4ce3-ae92-ea54324fc6c2",
   "metadata": {},
   "outputs": [
    {
     "name": "stdout",
     "output_type": "stream",
     "text": [
      "[132.351945   111.37661446  83.76459217  54.02729152 114.03650731\n",
      " 217.06721178  49.18122717 207.657616   179.11728972 113.88008395\n",
      "  44.3879054  -41.00028747  79.85290703 255.19503009 281.98934584\n",
      "  89.8177607   73.55914525 112.11700225 265.459216   141.12990625\n",
      "  88.3605891  252.8592509   81.69718483 211.2808363  195.70249672\n",
      " 332.45950347 170.63745268 120.41460475 134.82634964 124.52601608\n",
      " 129.32931782 120.03684426  -4.18204847 159.95573431 326.5133599\n",
      " 182.53249532 213.1801143  497.20842563  29.4        299.20373677\n",
      " 243.78460296  50.79685853 174.         278.28112377 155.27969548\n",
      " 103.93802844 181.03679478 111.20441984 133.31745517 116.49315371\n",
      " -20.81369781 485.49538439 129.83782246  82.44268642  84.42161957\n",
      " 172.         365.         239.95594518 142.30946272 248.1580531\n",
      "  14.37269237 151.17344946 168.87492571 111.04566026 -16.43534872\n",
      " 208.87340628  80.00921579  42.32878429 106.01115101 189.07343611\n",
      " 143.41567773  36.71184178 367.20768844 111.9426863   42.24225635\n",
      "  50.45585262 221.66666667  75.99635128 -67.40467739 244.70709093\n",
      " 113.7860746  332.45950347  47.29988311  56.16516872 232.80125018\n",
      "  26.4378231  357.82491369 149.44297389 205.73929069  51.59629656\n",
      "  10.20507144  78.43079732 300.          45.47706146 399.45979094\n",
      " 188.02786646  37.86730636  30.          92.00028747  84.15271553\n",
      " 367.11434898 227.79709308 271.04881923  49.55142106  -0.72249575\n",
      "  74.25308713  80.41529451 211.00014373 390.74455189  83.56147061\n",
      " 278.28112377  81.20398632 162.10601187 217.06721178 299.20373677\n",
      " 121.26835156 180.47166277 109.1706729  316.9752292   66.77037331\n",
      "  43.3154772   51.3        147.23185369 248.08040379 209.8559897\n",
      " 145.51401048 201.53078357 230.95044224 -13.39340607 383.97551667\n",
      " 346.50949904 -51.55458125 170.63745268 142.30946272  49.11420706\n",
      "  46.70863819 -18.33839705 152.18058045  69.66666667  37.0873622\n",
      " 293.22796697 510.          97.97082782 285.07368203  29.2116938\n",
      " 331.9990754  176.89878964  49.55142106  49.55142106 383.97551667\n",
      " 167.33295004  69.60032894 399.99545754  -5.39142463 108.98368346\n",
      " -19.78721343  42.         275.50600122 119.07806871 205.73929069\n",
      "  46.2         71.69490258  86.90386869 109.1706729  171.61487108\n",
      "  71.13593827  26.4378231 ]\n"
     ]
    }
   ],
   "source": [
    "#Prediction on Testing Data\n",
    "test_data_predict = reg.predict(X_test)\n",
    "print(test_data_predict)\n"
   ]
  },
  {
   "cell_type": "code",
   "execution_count": 44,
   "id": "aa0d1180-2c75-418b-92b8-1e400ace4e21",
   "metadata": {},
   "outputs": [
    {
     "name": "stdout",
     "output_type": "stream",
     "text": [
      "Mean Absolute Error :  40.948205860399625\n",
      "Relative MAE (using mean of target variable) in %: 27.08590115494075\n"
     ]
    }
   ],
   "source": [
    "score_2= metrics.mean_absolute_error(y_test,test_data_predict)\n",
    "print(\"Mean Absolute Error : \",score_2)\n",
    "mean_y1 = np.mean(y_test)\n",
    "relative_mae_mean2 = (score_2 / mean_y1)*100\n",
    "print(\"Relative MAE (using mean of target variable) in %:\", relative_mae_mean2)\n"
   ]
  },
  {
   "cell_type": "markdown",
   "id": "bed4196b-6791-4b55-8a6f-b01aa048d546",
   "metadata": {},
   "source": [
    "Now my model for Predicting House Prices has been evaluated successfully both on Training as well as Testing Data\n",
    "And it is predicting approx. correct prices"
   ]
  },
  {
   "cell_type": "markdown",
   "id": "e744e3a9-72bc-41c4-b80f-97436fb4f6f0",
   "metadata": {},
   "source": [
    "Let's Make a function to predict the House prices through this Model by passing parameter values "
   ]
  },
  {
   "cell_type": "code",
   "execution_count": 45,
   "id": "cc51f942-8fa6-4295-b72e-2f4c841efc3c",
   "metadata": {},
   "outputs": [
    {
     "data": {
      "text/plain": [
       "Index(['BHK', 'Bathroom', 'Total_sqft',\n",
       "       'Abhimanyu Apartments, Vasundhara Enclave',\n",
       "       'Abul Fazal Enclave Part 1, Okhla', 'Abul Fazal Enclave Part-II, Okhla',\n",
       "       'Adarsh Homes, Dwarka Mor', 'Alaknanda', 'Amar Colony, Lajpat Nagar',\n",
       "       'Andheria Mor, Mehrauli',\n",
       "       ...\n",
       "       'Uttam Nagar West', 'Vasant Kunj', 'Vasant Kunj Sector C',\n",
       "       'Vasant Vihar Builder Floor, Vasant Vihar', 'Vasundhara Enclave',\n",
       "       'Vikram Vihar, Lajpat Nagar', 'Vinoba Puri, Lajpat Nagar',\n",
       "       'Virat Residency, Dwarka Mor', 'Yamuna Apartment, Alaknanda',\n",
       "       'Yamuna Vihar, Shahdara'],\n",
       "      dtype='object', length=151)"
      ]
     },
     "execution_count": 45,
     "metadata": {},
     "output_type": "execute_result"
    }
   ],
   "source": [
    "X.columns"
   ]
  },
  {
   "cell_type": "code",
   "execution_count": 46,
   "id": "ff8bb1b9-563f-429b-8869-d768a0ee705f",
   "metadata": {},
   "outputs": [],
   "source": [
    "def house_price_prediction(Locality,BHK,Bathroom,Total_sqft):\n",
    "    loc_index=np.where(X.columns == Locality)[0][0]\n",
    "    x=np.zeros(len(X.columns))\n",
    "    x[0]=BHK\n",
    "    x[1]=Bathroom\n",
    "    x[2]=Total_sqft\n",
    "    if loc_index>=0:\n",
    "        x[loc_index]=1\n",
    "        \n",
    "    return reg.predict([x])[0]\n",
    "    \n",
    "    "
   ]
  },
  {
   "cell_type": "code",
   "execution_count": 51,
   "id": "3ec3c022-6cf4-496c-a553-d0f6c243d0ec",
   "metadata": {},
   "outputs": [],
   "source": [
    "warnings.filterwarnings(\"ignore\", category=UserWarning)"
   ]
  },
  {
   "cell_type": "code",
   "execution_count": 52,
   "id": "72d5913b-3094-40ec-8d9d-87fb516f5512",
   "metadata": {},
   "outputs": [
    {
     "data": {
      "text/plain": [
       "148.9004351913795"
      ]
     },
     "execution_count": 52,
     "metadata": {},
     "output_type": "execute_result"
    }
   ],
   "source": [
    "house_price_prediction('Alaknanda',3,2.0,5000)"
   ]
  },
  {
   "cell_type": "markdown",
   "id": "7ff1cde1-bcba-482d-baff-02e98cdd90b8",
   "metadata": {},
   "source": [
    "Approx Price of 5000 sqft area 3 BHK House in 'Alaknanda' with 2 bathrooms is 148.9 lakhs according to the trained data"
   ]
  },
  {
   "cell_type": "code",
   "execution_count": 53,
   "id": "574fa62f-5c6c-4420-87c1-9b5e0c30458f",
   "metadata": {},
   "outputs": [
    {
     "data": {
      "text/plain": [
       "27.13612245093549"
      ]
     },
     "execution_count": 53,
     "metadata": {},
     "output_type": "execute_result"
    }
   ],
   "source": [
    "house_price_prediction('Uttam Nagar West',2,2.0,3000)"
   ]
  },
  {
   "cell_type": "markdown",
   "id": "2e1c63bd-3114-4495-a6e1-71a32522f663",
   "metadata": {},
   "source": [
    "Approx Price of 3000 sqft area 2 BHK House in 'Uttam Nagar West' with 2 bathrooms is 27.1 lakhs according to the trained data"
   ]
  },
  {
   "cell_type": "code",
   "execution_count": 54,
   "id": "e03cd865-4e3e-46af-8f06-7fef50002d3d",
   "metadata": {},
   "outputs": [
    {
     "data": {
      "text/plain": [
       "148.1673967182896"
      ]
     },
     "execution_count": 54,
     "metadata": {},
     "output_type": "execute_result"
    }
   ],
   "source": [
    "house_price_prediction('Yamuna Vihar, Shahdara',3,3.0,6000)"
   ]
  },
  {
   "cell_type": "markdown",
   "id": "efbb1f96-b448-42c4-9cbd-ac5a3bce8ef6",
   "metadata": {},
   "source": [
    "Approx Price of 6000 sqft area 3 BHK House in Yamuna Vihar, Shahdara with 3 bathrooms is 148 lakhs according to the trained data"
   ]
  },
  {
   "cell_type": "code",
   "execution_count": 55,
   "id": "ce6b7ba0-35d0-4b88-a9f6-eb37f849704a",
   "metadata": {},
   "outputs": [
    {
     "data": {
      "text/plain": [
       "27.336734597414363"
      ]
     },
     "execution_count": 55,
     "metadata": {},
     "output_type": "execute_result"
    }
   ],
   "source": [
    "house_price_prediction('Adarsh Homes, Dwarka Mor',2,2.0,4000)"
   ]
  },
  {
   "cell_type": "markdown",
   "id": "f28683b8-d4d7-4fe0-a268-713fb0b8d3c2",
   "metadata": {},
   "source": [
    "Approx Price of 4000sqft area 2 BHK House in Adarsh Homes, Dwarka Mor with 2 bathrooms is 27.3 lakhs according to the trained data"
   ]
  },
  {
   "cell_type": "markdown",
   "id": "390257a0-693f-4b22-8f48-5bacb9d59e46",
   "metadata": {},
   "source": [
    "Hence, Our Model is Working Properly"
   ]
  },
  {
   "cell_type": "code",
   "execution_count": null,
   "id": "c872036d-9c90-427c-852b-294ff09f6f8c",
   "metadata": {},
   "outputs": [],
   "source": []
  }
 ],
 "metadata": {
  "kernelspec": {
   "display_name": "Python 3 (ipykernel)",
   "language": "python",
   "name": "python3"
  },
  "language_info": {
   "codemirror_mode": {
    "name": "ipython",
    "version": 3
   },
   "file_extension": ".py",
   "mimetype": "text/x-python",
   "name": "python",
   "nbconvert_exporter": "python",
   "pygments_lexer": "ipython3",
   "version": "3.12.2"
  }
 },
 "nbformat": 4,
 "nbformat_minor": 5
}
